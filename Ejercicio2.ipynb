{
  "cells": [
    {
      "cell_type": "markdown",
      "source": [
        "# SPICE\n",
        "\n",
        "SPICE es una abreviabiación de *Simulation Program with Integrated Circtuit Emphasis*. Se trata básicamente de un método estándar para describir circuitos usando texto plano en lugar de una representación gráfica (o esquemática). A esta descripción en texto se la llama también **netlist** y básicamente se corresponde con la lista de los componentes del circuito y cómo estos están conectados entre sí, es decir, de los nodos de unión. Los ficheros netlist pueden tener extensiones .cir, .net, .ckt, ó .sp y es muy común encontrárselos con cualquiera de estas.\n",
        "\n",
        "SPICE podría enmarcarse como un lenguange específico de dominio ya que la programación esta orientada para una clase muy específica de problemas como el de la creación de circuitos.\n",
        "\n",
        "Existen en el mercado muchas variantes (intérpretes) de Spice, aunque el original fue descrito en la Universidad de Berkeley. En la lista de intérpretes de Spice tenemos desde esfuerzos y proyectos comerciales hasta open source y regidos por distintas comunidades de usuarios y programadores como:\n",
        "   \n",
        "\n",
        "| Intérprete | Licencia | Fabricante | Características |\n",
        "| -- | -- | -- | -- |\n",
        "| [Ahkab](https://ahkab.github.io/ahkab/) | GPL | Giuseppe Venturini\t | Basado en Python |\n",
        "| [WinSpice3](http://www.winspice.com/) | Freeware | WINSPICE.COM\t | Sin soporte en Windows 10 y Linux |\n",
        "| [PSpice](https://www.pspice.com/) | Multiples Licencias | OrCad\t |  Mas de 33.000 modelos de diferentes dispositivos de principales fabricantes |\n",
        "| [TINA](https://www.tina.com/es/) | Por número de usuarios | DesignSoft\t | Disponible en cloud |\n",
        "| [NGSPICE](http://ngspice.sourceforge.net/) | BSD | NGSPICE\t | Desarrollado en C |\n",
        "| [LTspice](https://www.analog.com/en/design-center/design-tools-and-calculators/ltspice-simulator.html)  | Freeware | Analog Devices/Linear Technology\t | Existen versiones de este software desde 1999 |\n",
        "| [KiCad](https://kicad.org/)  | GNU | Jean-Pierre Charras | Desarrollado en C++ |\n",
        "\n",
        "Spice es un lenguaje interpretado que necesita de software para poder ejecutar bloques de código mientras que C es un lenguaje compilado, donde únicamente nos basta con ejecutar el fichero artefacto para correr el desarrollo.\n",
        "\n",
        "\n",
        "# Elementos de un netlist\n",
        "Como acabamos de comentar, un netlist se corresponde con la codificación de los elementos electrónicos de un circuito y las uniones entre los mismos. Veamos con más concreción qué partes y secciones lo componen.\n",
        "\n",
        "# Comentarios\n",
        "La primera línea de un netlist se corresponderá siempre con un comentario. A partir de esta línea se pueden introducir más comentarios pero tienen que ir siempre precedidos de un *. Ejemplo:\n",
        "\n",
        "    spice\n",
        "    Mi primer circuito\n",
        "    * Otro comentario\n",
        "    * más comentarios\n",
        "\n",
        "# Dispositivos básicos de un circuito\n",
        "Los elementos de un netlist son los mismos que encontramos en cualquier circuito eléctrico sencillo, tales como resistencias, condensadores, bobinas, interruptores, hilos y fuentes de alimentación. Para distinguir uno de otro, se reserva una letra característica: V para fuentes de alimentación, R para resistencias, C para condensadores y L para bobinas. También es posible usar estas letras en su versión en minúscula (r, v, c, l, etc.). Después de esta letra característica se puede sufijar cualquier texto para diferenciar un elemento de otro (números, letras, palabras, etc.). Ejemplo:\n",
        "\n",
        "    * Una resistencia \n",
        "    R1 \n",
        "    * Otra resistencia \n",
        "    R2 \n",
        "    * Fuente de alimentación \n",
        "    V \n",
        "    * Un condensador \n",
        "    Cprincipal\n",
        "\n",
        "# Conexiones\n",
        "A continuación de indicar el elemento eléctrico, tenemos que informar a Spice cuáles son los puntos de unión tanto a un lado como al otro del elemento. Así es como Spice sabe qué está conectado a qué: porque comparten un **punto** (o **nodo**, aunque este término se reserva sobretodo a uniones de más de dos elementos) que hemos señalizado correctamente. Para nombrar nodos, lo mejor es emplear una numeración secuencial: 0...n. **La enumeración de los puntos de unión es completamente a nuestro criterio.**\n",
        "\n",
        "    * Una resistencia\n",
        "    * entre cables 0 y 1\n",
        "    R1 0 1\n",
        " \n",
        "**Sólo es necesario seguir un criterio**: en el caso de una fuente de alimentación, el nodo que pondremos primero será aquel que está más cerca del borne positivo. Ejemplo:\n",
        "\n",
        "    spice\n",
        "    * Para una fuente indicamos primeramente conexión a nodo positivo. \n",
        "    v 2 3 type=vdc vdc=1\n",
        "\n",
        "En el caso de *LTspice* no es necesario indicar los parámetros type=vdc y vdc=X, sino que si no se especifica nada, se supone que el último valor es el del voltaje a corriente continua:\n",
        "\n",
        "     spice\n",
        "    * Especificación de una fuente de alimentación de 10 V en corriente continua en el caso de LTspice.\n",
        "    v 0 1 10\n",
        "   \n",
        "Aquí tienes un ejemplo gráfico de los componentes comentados justo arriba (resistencia y voltaje):\n",
        "\n",
        "![Circuito](E:\\Universidad\\UNIR\\ImagenesTrabajos\\ImagenCircuito.png)\n",
        "\n",
        "\n",
        "# Unidades en SPICE\n",
        "Las unidades de las magnitudes características del circuito son siempre unidades del Sistema Internacional y no es necesario indicarlo explícitamente en el netlist.\n",
        "\n",
        "La forma de especificar múltiplos de estas cantidades es añadiendo una letra. Básicamente las que nos interesan y las que suelen aparecer mayoritariamente son las que se muestran en la siguiente tabla:\n",
        " \n",
        "| Prefijo | Unidad | Valor Numerico |\n",
        "| -- | -- | -- |\n",
        "| T | Tera | 1000000000000 | \n",
        "| G | Giga | 1000000000 | \n",
        "| MEG | Mega | 1000000 | \n",
        "| K | Kilo | 1000 | \n",
        "| m | milli | 0.001 | \n",
        "| u | micro | 0.000001 | \n",
        "| n | nano | 0.000000001 | \n",
        "| p | pico | 0.000000000001 | \n",
        "| f | femto | 0.000000000000001 | \n",
        "| mil | thou | 0.0000254 | \n",
        "\n",
        "En el caso de las fuentes de alimentación hemos de especificar si se trata de corriente contínua (vdc) o alterna (ac).\n",
        "\n",
        "    * Una resistencia de 5 Ohmios\n",
        "    R2 1 0 5\n",
        "    * Una pila de 10 Voltios (continua)\n",
        "    V1 1 0 type=vdc vdc=10\n",
        "    * Una resistencia de 5 kΩ\n",
        "    RX 2 4 5k\n",
        " \n",
        "A continuación se muestran las unidades del Sistema Internacional relacionadas con los circuitos en general:\n",
        "\n",
        "| Símbolo | Unidad |\n",
        "| -- | -- |\n",
        "| Hz | Hercio | \n",
        "| V | Voltio | \n",
        "| A | Amperio | \n",
        "| C | Culombios |\n",
        "| Ω | Ohmio | \n",
        "\n",
        "\n",
        "# Valores iniciales\n",
        "Aparecen justo al final de la definición del componente (ic). Suelen aplicarse principalmente con condensadores.\n",
        "\n",
        "    * Una condensador inicialmente no cargado\n",
        "    c 1 0 1u ic=0\n",
        "\n",
        "# Fin del circuito\n",
        "El fin de la descripción de un netlist se especifica mediante el comando .end.\n",
        "\n",
        "     spice\n",
        "     * Mi primer circuito\n",
        "     V 1 0 vdc=10 type=vdc\n",
        "     R 1 0 5\n",
        "     * Fin del circuito\n",
        "     .end\n",
        " \n",
        "#  Comandos SPICE para circuitos en corriente continua\n",
        "Además de la descripción del circuito, hemos de indicar al intérprete de Spice qué tipo de análisis queremos realizar en sobre el mismo y cómo queremos presentar la salida de la simulación. Los comandos en Spice empiezan por un . y suelen escribirse justo al final del circuito, pero antes del comando .end.\n",
        "\n",
        "    Mi primer circuito\n",
        "    * Aquí van los componentes\n",
        "    R 1 0 6k\n",
        "    ...\n",
        "    * Comandos\n",
        "    .op\n",
        "    ...\n",
        "    * Fin del circuito\n",
        "    .end\n",
        "    \n",
        "Veamos los principales comandos de simulación:\n",
        "\n",
        "- .op es el comando más sencillo que podemos emplear en. Devuelve el voltaje e intensidad en cada ramal y componente del circuito. Este comando no necesita parámetros.\n",
        "- .dc es uy parecido al comando .op pero nos permite cambiar el valor del voltaje de una fuente de alimentación en pasos consecutivos entre el valor A y el valor B. En el caso de que la fuente tuviera asignada ya un valor para su voltaje, este sería ignorado. Ejemplo:\n",
        "\n",
        "      spice\n",
        "      * Variamos el valor del voltaje\n",
        "      * de la fuente \"v\" de 1 a 1000\n",
        "      * en pasos de 5 voltios\n",
        "      v 1 0 type=vdc vdc=10\n",
        "      .dc v 1 start=1 stop=1000 step=20\n",
        "      v2a 2 4 type=vdc vdc=9\n",
        "      * Igual para v2a. Se ignora su voltaje de 9V\n",
        "      .dc v2a start=0 stop=10 step=2\n",
        "    \n",
        "- El comando .tran realiza un análisis en el tiempo de los parámetros del circuito. Si no se emplea la directiva uic (use initial conditions) o esta es igual a cero, este análisis se realiza desde el punto estable de funcionamiento del circuito hasta un tiempo tfinal. y en intervalos tstep. Si empleamos un varlor distinto para parámetro uic, entonces se hará uso de las condiciones iniciales definidas para cada componente (típicamente ic=X en el caso de los condensadores, que da cuenta de la carga incial que estos pudieran tener).\n",
        "    \n",
        "      * Hacemos avanzar el tiempo entre\n",
        "      * tinicial y tfinal en pasos tstep\n",
        "      .tran tstart=X tstop=Y tstep=Z uic=0/1/2/3\n",
        "    \n",
        "X, Y y Z tienen, evidentemente unidades de tiempo en el S.I. (segundos).\n",
        "\n",
        "El parámetro *uic* se usa para especificar el estado del circuito en un determinado momento y tiene los siguientes posibles valores: \n",
        "\n",
        "| Valor | Descripción |\n",
        "| -- | -- |\n",
        "| 0 | Todos los voltajes y corrientes de los nodos fuente v/h/e/ se asumirán como 0 en tinicial.  | \n",
        "| 1 | El valor en tinicial será el último resultado de un análisis OP. | \n",
        "| 2 | El valor en tinicial es el último resultado de un análisis OP en el que se establecen los valores de corrientes a través de inductores y voltajes en  condensadores especificados en sus iconos. | \n",
        "| 3 | Se carga una condición inicial suministrada por el usuario. Esto requiere de un .ic en algún lugar del netlist y el nombre debe coicidir con el de ic_label. |\n",
        "\n",
        "# Ahkab\n",
        "\n",
        "[Ahkab](https://ahkab.github.io/ahkab/) es una impementación open source en Python del estándar de Spice desarrollado por Giuseppe Venturini cuya licencia es GPL. La última versión disponible de Ahkab es 0.18 y redistribuye el módulo py3compat.py desarrollado por Jinja team en 2013. Existen bastantes ejemplos de netlists en el directorio tests del repositorio, aun así, a continuación mostramos el siguiente circuito:\n",
        "\n",
        "## Circuito sencillo para trabjar con la ley de Ohm:\n",
        "\n",
        "La mal llamada ley de Ohm reza que el voltaje (la energía por unidad de carga) que se disipa en un tramo de un circuito eléctrico es equivalente a la intensidad (I) de la corriente (es decir, cuántos electrones circulan por unidad de tiempo) por la resistencia del material (R) en el que está desplazándose dicha corriente. Matemáticamente:\n",
        "\n",
        "$$ Voltaje (Voltios) = Intensidad(Amperios) · Resistencia (Ω - Ohmios) $$\n",
        "\n",
        "Siguiendo la ley de Ohm, se necesita 1 Voltio para hacer pasar 1 amperio por una resistencia de 1 ohmio de tal manera que: \n",
        "\n",
        "![leyOhm](E:\\Universidad\\UNIR\\ImagenesTrabajos\\LeyOhm.png)\n",
        "\n",
        "Vamos a escribir su contenido (componentes o netlist) en disco con el nombre circuito sencillo.sp. Esto lo podemos lograr directamente y en tiempo real desde una celda de Jupyter gracias a los comandos mágicos de este entorno de programación literaria. En concreto vamos a utilizar %%writefile que guarda los contenidos de una celda como un fichero."
      ],
      "metadata": {
        "nteract": {
          "transient": {
            "deleting": false
          }
        }
      }
    },
    {
      "cell_type": "code",
      "source": [
        "%%writefile \"circuito_sencillo.sp\"\n",
        "* Este es un circuito sencillo\n",
        "r1 1 0 10\n",
        "v1 0 1 type=vdc vdc=9\n",
        ".op\n",
        ".dc v1 start=0 stop=9 step=1\n",
        ".end"
      ],
      "outputs": [
        {
          "output_type": "stream",
          "name": "stdout",
          "text": [
            "Overwriting circuito_sencillo.sp\n"
          ]
        }
      ],
      "execution_count": 1,
      "metadata": {
        "collapsed": true,
        "jupyter": {
          "source_hidden": false,
          "outputs_hidden": false
        },
        "nteract": {
          "transient": {
            "deleting": false
          }
        },
        "execution": {
          "iopub.status.busy": "2021-01-04T19:50:47.700Z",
          "iopub.execute_input": "2021-01-04T19:50:47.721Z",
          "iopub.status.idle": "2021-01-04T19:50:47.758Z",
          "shell.execute_reply": "2021-01-04T19:50:46.180Z"
        }
      }
    },
    {
      "cell_type": "markdown",
      "source": [
        "Ahora vamos a leer su descripción con Ahkab, interpretar y ejecutar las simulaciones que en él estén descritas. Adicionalmente importamos PyLab, un conglomerado de varias librerías entre las que se incluyen numpy, scipy, sympy, pandas, matplotlib, ipython:\n",
        "\n"
      ],
      "metadata": {
        "nteract": {
          "transient": {
            "deleting": false
          }
        }
      }
    },
    {
      "cell_type": "code",
      "source": [
        "import pylab as plt\n",
        "import ahkab\n",
        "\n",
        "#Se añade para poder hacer show de las graficas.\n",
        "%matplotlib inline \n",
        "\n",
        "circuito_y_analisis = ahkab.netlist_parser.parse_circuit('circuito_sencillo.sp')\n",
        "\n",
        "\n"
      ],
      "outputs": [
        {
          "output_type": "stream",
          "name": "stderr",
          "text": [
            "W: Locale appears not set! please export LANG=\"en_US.UTF-8\" or equivalent, \n",
            "W: or ahkab's unicode support is broken.\n"
          ]
        }
      ],
      "execution_count": 2,
      "metadata": {
        "collapsed": true,
        "jupyter": {
          "source_hidden": false,
          "outputs_hidden": false
        },
        "nteract": {
          "transient": {
            "deleting": false
          }
        },
        "execution": {
          "iopub.status.busy": "2021-01-04T19:50:47.789Z",
          "iopub.execute_input": "2021-01-04T19:50:47.810Z",
          "shell.execute_reply": "2021-01-04T19:50:46.217Z",
          "iopub.status.idle": "2021-01-04T19:50:47.846Z"
        }
      }
    },
    {
      "cell_type": "markdown",
      "source": [
        "Separamos la información del netlist (componentes) de los análisis (uno de tipo op y otro de tipo dc):"
      ],
      "metadata": {
        "nteract": {
          "transient": {
            "deleting": false
          }
        }
      }
    },
    {
      "cell_type": "code",
      "source": [
        "circuito = circuito_y_analisis[0]\n",
        "analisis_en_netlist = circuito_y_analisis[1]\n",
        "lista_de_analisis = ahkab.netlist_parser.parse_analysis(circuito, analisis_en_netlist)\n",
        "print(lista_de_analisis)\n",
        "#print(type(circuito_y_analisis))\n"
      ],
      "outputs": [
        {
          "output_type": "stream",
          "name": "stdout",
          "text": [
            "[{'type': 'op', 'guess': True, 'x0': None}, {'type': 'dc', 'source': 'v1', 'start': 0.0, 'stop': 9.0, 'step': 1.0, 'sweep_type': 'LIN'}]\n"
          ]
        }
      ],
      "execution_count": 3,
      "metadata": {
        "collapsed": true,
        "jupyter": {
          "source_hidden": false,
          "outputs_hidden": false
        },
        "nteract": {
          "transient": {
            "deleting": false
          }
        },
        "execution": {
          "iopub.status.busy": "2021-01-04T19:50:47.879Z",
          "iopub.execute_input": "2021-01-04T19:50:47.902Z",
          "iopub.status.idle": "2021-01-04T19:50:47.941Z",
          "shell.execute_reply": "2021-01-04T19:50:46.248Z"
        }
      }
    },
    {
      "cell_type": "markdown",
      "source": [
        "Ahkab utiliza tuplas para poder parsear netlists por ello creamos *lista_de_análisis* con los datos del *circuito_sencillo.sp*\n",
        "\n",
        "Las simulaciones que implican listas de datos (.dc, .tran, etc.) necesitan de un fichero temporal (outfile) donde almacenar los resultados. Para ello tenemos que definir la propiedad outfile."
      ],
      "metadata": {
        "nteract": {
          "transient": {
            "deleting": false
          }
        }
      }
    },
    {
      "cell_type": "code",
      "source": [
        "lista_de_analisis[1]['outfile'] = \"simulacion_dc.tsv\"\n",
        "loopindex = 0\n",
        "\n",
        "for item in lista_de_analisis:\n",
        "  print(item)\n",
        "  for key, value in item.items():\n",
        "    if key == 'type' and value == 'dc':\n",
        "      lista_de_analisis[loopindex]['outfile'] = \"simulacion_dc.tsv\"\n",
        "    elif key == 'type' and value == 'tran':\n",
        "      lista_de_analisis[loopindex]['outfile'] = \"simulacion_tran.tsv\"\n",
        "  loopindex = loopindex + 1\n",
        "  \n",
        "[i for i, d in enumerate(lista_de_analisis) if \"dc\" in d.values()][0] "
      ],
      "outputs": [
        {
          "output_type": "stream",
          "name": "stdout",
          "text": [
            "{'type': 'op', 'guess': True, 'x0': None}\n",
            "{'type': 'dc', 'source': 'v1', 'start': 0.0, 'stop': 9.0, 'step': 1.0, 'sweep_type': 'LIN', 'outfile': 'simulacion_dc.tsv'}\n"
          ]
        },
        {
          "output_type": "execute_result",
          "execution_count": 4,
          "data": {
            "text/plain": "1"
          },
          "metadata": {}
        }
      ],
      "execution_count": 4,
      "metadata": {
        "collapsed": true,
        "jupyter": {
          "source_hidden": false,
          "outputs_hidden": false
        },
        "nteract": {
          "transient": {
            "deleting": false
          }
        },
        "execution": {
          "iopub.status.busy": "2021-01-04T19:50:47.981Z",
          "iopub.execute_input": "2021-01-04T19:50:48.001Z",
          "iopub.status.idle": "2021-01-04T19:50:48.048Z",
          "shell.execute_reply": "2021-01-04T19:50:46.282Z"
        }
      }
    },
    {
      "cell_type": "markdown",
      "source": [
        "Una vez que ya hemos separado netlists de simulaciones, ahora ejecutamos las segundas (¡todas a la vez!) gracias al método .run de Ahkab:\n",
        "\n"
      ],
      "metadata": {
        "nteract": {
          "transient": {
            "deleting": false
          }
        }
      }
    },
    {
      "cell_type": "code",
      "source": [
        "resultados = ahkab.run(circuito, lista_de_analisis)\n"
      ],
      "outputs": [
        {
          "output_type": "stream",
          "name": "stdout",
          "text": [
            "Starting op analysis:\n",
            "Calculating guess: skipped. (linear circuit)\n",
            "Solving...  -\b\\\b done.\n",
            "Solving...  -\b\\\b done.\n",
            "Difference check within margins.\n",
            "(Voltage: er=0.001, ea=1e-06, Current: er=0.001, ea=1e-09)\n",
            "Starting DC analysis:\n",
            "Solving...  -\b\\\b|\b/\b-\b\\\b|\b/\b-\b\\\b|\bdone\n"
          ]
        }
      ],
      "execution_count": 5,
      "metadata": {
        "collapsed": true,
        "jupyter": {
          "source_hidden": false,
          "outputs_hidden": false
        },
        "nteract": {
          "transient": {
            "deleting": false
          }
        },
        "execution": {
          "iopub.status.busy": "2021-01-04T19:50:48.081Z",
          "iopub.execute_input": "2021-01-04T19:50:48.121Z",
          "iopub.status.idle": "2021-01-04T19:50:48.427Z",
          "shell.execute_reply": "2021-01-04T19:50:46.313Z"
        }
      }
    },
    {
      "cell_type": "markdown",
      "source": [
        "## Resultados de la simulación .dc\n",
        "Imprimimos información sobre la simulación de tipo .dc:"
      ],
      "metadata": {
        "nteract": {
          "transient": {
            "deleting": false
          }
        }
      }
    },
    {
      "cell_type": "code",
      "source": [
        "print(resultados['dc'])"
      ],
      "outputs": [
        {
          "output_type": "stream",
          "name": "stdout",
          "text": [
            "<DC simulation results for '* este es un circuito sencillo' (netlist circuito_sencillo.sp). LIN sweep of V1 from 0 to 9 V. Run on 2021-01-04 19:50:10, data file simulacion_dc.tsv>\n"
          ]
        }
      ],
      "execution_count": 6,
      "metadata": {
        "collapsed": true,
        "jupyter": {
          "source_hidden": false,
          "outputs_hidden": false
        },
        "nteract": {
          "transient": {
            "deleting": false
          }
        },
        "execution": {
          "iopub.status.busy": "2021-01-04T19:50:48.469Z",
          "iopub.execute_input": "2021-01-04T19:50:48.493Z",
          "iopub.status.idle": "2021-01-04T19:50:48.541Z",
          "shell.execute_reply": "2021-01-04T19:50:46.346Z"
        }
      }
    },
    {
      "cell_type": "markdown",
      "source": [
        "Veamos qué variables podemos dibujar para el caso del análisis dc."
      ],
      "metadata": {
        "nteract": {
          "transient": {
            "deleting": false
          }
        }
      }
    },
    {
      "cell_type": "code",
      "source": [
        "print(resultados['dc'].keys())"
      ],
      "outputs": [
        {
          "output_type": "stream",
          "name": "stdout",
          "text": [
            "['V1', 'V1', 'I(V1)']\n"
          ]
        }
      ],
      "execution_count": 7,
      "metadata": {
        "collapsed": true,
        "jupyter": {
          "source_hidden": false,
          "outputs_hidden": false
        },
        "nteract": {
          "transient": {
            "deleting": false
          }
        },
        "execution": {
          "iopub.status.busy": "2021-01-04T19:50:48.583Z",
          "iopub.execute_input": "2021-01-04T19:50:48.608Z",
          "iopub.status.idle": "2021-01-04T19:50:48.647Z",
          "shell.execute_reply": "2021-01-04T19:50:46.384Z"
        }
      }
    },
    {
      "cell_type": "markdown",
      "source": [
        "Y ahora graficamos el resultado del análisis anterior. Concretamente vamos a representar el voltaje en el borne 1 (V1) con respecto a la intensidad del circuito (I(V1))."
      ],
      "metadata": {
        "nteract": {
          "transient": {
            "deleting": false
          }
        }
      }
    },
    {
      "cell_type": "code",
      "source": [
        "figura = plt.figure()\n",
        "plt.title(\"Prueba DC\")\n",
        "plt.plot(resultados['dc']['V1'], resultados['dc']['I(V1)'], label=\"Voltaje (V1)\", marker='o');\n",
        "\n",
        "plt.legend(loc='best')\n",
        "plt.ylabel('Intensidad')\n",
        "plt.xlabel('Voltaje')\n",
        "plt.grid(True, linestyle='--')\n",
        "\n",
        "plt.show()"
      ],
      "outputs": [
        {
          "output_type": "display_data",
          "data": {
            "text/plain": "<Figure size 432x288 with 1 Axes>",
            "image/png": "[encoded data removed]"
          },
          "metadata": {
            "needs_background": "light"
          }
        }
      ],
      "execution_count": 8,
      "metadata": {
        "collapsed": true,
        "jupyter": {
          "source_hidden": false,
          "outputs_hidden": false
        },
        "nteract": {
          "transient": {
            "deleting": false
          }
        },
        "execution": {
          "iopub.status.busy": "2021-01-04T19:50:48.684Z",
          "iopub.execute_input": "2021-01-04T19:50:48.711Z",
          "iopub.status.idle": "2021-01-04T19:50:48.757Z",
          "shell.execute_reply": "2021-01-04T19:50:46.429Z"
        }
      }
    },
    {
      "cell_type": "markdown",
      "source": [
        "## Resultados de la simulación .op\n",
        "El método .results nos devuelve un diccionario con los resultados de la simulación."
      ],
      "metadata": {
        "nteract": {
          "transient": {
            "deleting": false
          }
        }
      }
    },
    {
      "cell_type": "code",
      "source": [
        "print(resultados['op'].results)\n"
      ],
      "outputs": [
        {
          "output_type": "stream",
          "name": "stdout",
          "text": [
            "{V1: -9.0, I(V1): -0.9}\n"
          ]
        }
      ],
      "execution_count": 9,
      "metadata": {
        "collapsed": true,
        "jupyter": {
          "source_hidden": false,
          "outputs_hidden": false
        },
        "nteract": {
          "transient": {
            "deleting": false
          }
        },
        "execution": {
          "iopub.status.busy": "2021-01-04T19:50:48.794Z",
          "iopub.execute_input": "2021-01-04T19:50:48.820Z",
          "iopub.status.idle": "2021-01-04T19:50:48.863Z",
          "shell.execute_reply": "2021-01-04T19:50:46.465Z"
        }
      }
    },
    {
      "cell_type": "markdown",
      "source": [
        "**Pregunta: justifica el sencillo resultado anterior (análisis op). Repite el cálculo con Sympy, atendiendo con mimo a las unidades y al formateo de los resultados (tal y como hemos visto en muchos otros notebooks en clase).**"
      ],
      "metadata": {
        "nteract": {
          "transient": {
            "deleting": false
          }
        }
      }
    },
    {
      "cell_type": "markdown",
      "source": [
        "## Resolución del mismo circuito pero con LTspice\n",
        "¿Cómo? ¿Es esto posible? ¿Desde Jupyter? Sí! Pero primero, por comodidad, deberíamos crear un alias del comando que apunte a nuestro ejecutable. Además, con un poco de inteligencia, podemos adelantarnos al hecho de si estamos en Windows o macOS:"
      ],
      "metadata": {
        "nteract": {
          "transient": {
            "deleting": false
          }
        }
      }
    },
    {
      "cell_type": "code",
      "source": [
        "import platform\n",
        "\n",
        "#Usamos -b para correr en modo batch y -ascii para interpretar los ficheros .raw.\n",
        "\n",
        "%alias lts E:\\Universidad\\Software\\LTSpice\\XVIIx64.exe -ascii -b"
      ],
      "outputs": [],
      "execution_count": 10,
      "metadata": {
        "collapsed": true,
        "jupyter": {
          "source_hidden": false,
          "outputs_hidden": false
        },
        "nteract": {
          "transient": {
            "deleting": false
          }
        },
        "execution": {
          "iopub.status.busy": "2021-01-04T19:50:48.906Z",
          "iopub.execute_input": "2021-01-04T19:50:48.936Z",
          "iopub.status.idle": "2021-01-04T19:50:48.965Z",
          "shell.execute_reply": "2021-01-04T19:50:46.498Z"
        }
      }
    },
    {
      "cell_type": "markdown",
      "source": [
        "Ejecuta esta línea para que se escriba el fichero siguiente. Para LTspice, vamos a reservar la extensión .net:\n",
        "\n"
      ],
      "metadata": {
        "nteract": {
          "transient": {
            "deleting": false
          }
        }
      }
    },
    {
      "cell_type": "code",
      "source": [
        "%%writefile \"circuito_sencillo.net\"\n",
        "* Este es un circuito sencillo adaptado para LTspice\n",
        "r1 1 0 100\n",
        "v1 0 1 9\n",
        ".op\n",
        "* Comentamos el análisis .dc para centrarnos primero en el .op\n",
        "* .dc v1 1 10 \n",
        ".end"
      ],
      "outputs": [
        {
          "output_type": "stream",
          "name": "stdout",
          "text": [
            "Overwriting circuito_sencillo.net\n"
          ]
        }
      ],
      "execution_count": 11,
      "metadata": {
        "collapsed": true,
        "jupyter": {
          "source_hidden": false,
          "outputs_hidden": false
        },
        "nteract": {
          "transient": {
            "deleting": false
          }
        },
        "execution": {
          "iopub.status.busy": "2021-01-04T19:50:49.002Z",
          "iopub.execute_input": "2021-01-04T19:50:49.030Z",
          "iopub.status.idle": "2021-01-04T19:50:49.086Z",
          "shell.execute_reply": "2021-01-04T19:50:46.530Z"
        }
      }
    },
    {
      "cell_type": "markdown",
      "source": [
        "Ejecutamos LTspice con el circuito (de la misma manera que antes habíamos hecho con Ahkab).\n",
        "\n"
      ],
      "metadata": {
        "nteract": {
          "transient": {
            "deleting": false
          }
        }
      }
    },
    {
      "cell_type": "code",
      "source": [
        "lts \"circuito_sencillo.net\"\n"
      ],
      "outputs": [],
      "execution_count": 12,
      "metadata": {
        "collapsed": true,
        "jupyter": {
          "source_hidden": false,
          "outputs_hidden": false
        },
        "nteract": {
          "transient": {
            "deleting": false
          }
        },
        "execution": {
          "iopub.status.busy": "2021-01-04T19:50:49.129Z",
          "iopub.execute_input": "2021-01-04T19:50:49.154Z",
          "iopub.status.idle": "2021-01-04T19:50:49.185Z",
          "shell.execute_reply": "2021-01-04T19:50:46.563Z"
        }
      }
    },
    {
      "cell_type": "markdown",
      "source": [
        "Veamos el contenido de la simulación.\n",
        "\n"
      ],
      "metadata": {
        "nteract": {
          "transient": {
            "deleting": false
          }
        }
      }
    },
    {
      "cell_type": "code",
      "source": [
        "%pycat circuito_sencillo.log\n"
      ],
      "outputs": [],
      "execution_count": 13,
      "metadata": {
        "collapsed": true,
        "jupyter": {
          "source_hidden": false,
          "outputs_hidden": false
        },
        "nteract": {
          "transient": {
            "deleting": false
          }
        },
        "execution": {
          "iopub.status.busy": "2021-01-04T19:50:49.223Z",
          "iopub.execute_input": "2021-01-04T19:50:49.251Z",
          "iopub.status.idle": "2021-01-04T19:50:49.279Z",
          "shell.execute_reply": "2021-01-04T19:50:46.601Z"
        }
      }
    },
    {
      "cell_type": "markdown",
      "source": [
        "Ahora repitamos lo mismo para el análisis .dc:\n",
        "\n"
      ],
      "metadata": {
        "nteract": {
          "transient": {
            "deleting": false
          }
        }
      }
    },
    {
      "cell_type": "code",
      "source": [
        "%%writefile \"circuito_sencillo.net\"\n",
        "* Este es un circuito sencillo adaptado para LTspice\n",
        "r1 1 0 100\n",
        "v1 0 1 9\n",
        "* Ahora obviamos el análisis .op\n",
        "* .op\n",
        ".dc v1 1 10 \n",
        ".end"
      ],
      "outputs": [
        {
          "output_type": "stream",
          "name": "stdout",
          "text": [
            "Overwriting circuito_sencillo.net\n"
          ]
        }
      ],
      "execution_count": 14,
      "metadata": {
        "collapsed": true,
        "jupyter": {
          "source_hidden": false,
          "outputs_hidden": false
        },
        "nteract": {
          "transient": {
            "deleting": false
          }
        },
        "execution": {
          "iopub.status.busy": "2021-01-04T19:50:49.316Z",
          "iopub.execute_input": "2021-01-04T19:50:49.340Z",
          "iopub.status.idle": "2021-01-04T19:50:49.386Z",
          "shell.execute_reply": "2021-01-04T19:50:46.625Z"
        }
      }
    },
    {
      "cell_type": "code",
      "source": [
        "lts \"circuito_sencillo.net\"\n"
      ],
      "outputs": [],
      "execution_count": 15,
      "metadata": {
        "collapsed": true,
        "jupyter": {
          "source_hidden": false,
          "outputs_hidden": false
        },
        "nteract": {
          "transient": {
            "deleting": false
          }
        },
        "execution": {
          "iopub.status.busy": "2021-01-04T19:50:49.424Z",
          "iopub.execute_input": "2021-01-04T19:50:49.446Z",
          "iopub.status.idle": "2021-01-04T19:50:49.473Z",
          "shell.execute_reply": "2021-01-04T19:50:46.648Z"
        }
      }
    },
    {
      "cell_type": "markdown",
      "source": [
        "Al ejecutar esta simulación, se genera un fichero .raw con los resultados. Es muy parecido al outfile que hemos empleado antes con Ahkab. Para leer este fichero, tenemos que usar el paquete ltspice de Python, el cual podéis instalar directamente desde Jupyter:"
      ],
      "metadata": {
        "nteract": {
          "transient": {
            "deleting": false
          }
        }
      }
    },
    {
      "cell_type": "code",
      "source": [
        "!pip install ltspice\n"
      ],
      "outputs": [
        {
          "output_type": "stream",
          "name": "stdout",
          "text": [
            "Requirement already satisfied: ltspice in c:\\users\\sosa\\scoop\\apps\\miniconda3\\current\\lib\\site-packages (1.0.0)\n",
            "Requirement already satisfied: numpy in c:\\users\\sosa\\scoop\\apps\\miniconda3\\current\\lib\\site-packages (from ltspice) (1.19.1)\n"
          ]
        }
      ],
      "execution_count": 16,
      "metadata": {
        "collapsed": true,
        "jupyter": {
          "source_hidden": false,
          "outputs_hidden": false
        },
        "nteract": {
          "transient": {
            "deleting": false
          }
        },
        "execution": {
          "iopub.status.busy": "2021-01-04T19:50:49.512Z",
          "iopub.execute_input": "2021-01-04T19:50:49.569Z",
          "iopub.status.idle": "2021-01-04T19:50:49.628Z",
          "shell.execute_reply": "2021-01-04T19:50:46.673Z"
        }
      }
    },
    {
      "cell_type": "markdown",
      "source": [
        "Ahora ya podemos leer este fichero .raw y pintar una recta de voltaje muy parecida a la que obtuvimos anteriormente con Ahkab:\n",
        "\n"
      ],
      "metadata": {
        "nteract": {
          "transient": {
            "deleting": false
          }
        }
      }
    },
    {
      "cell_type": "code",
      "source": [
        "import ltspice\n",
        "\n",
        "l = ltspice.Ltspice(\"circuito_sencillo.raw\")\n",
        "l.parse()\n",
        "\n",
        "tiempo = l.get_time()\n",
        "voltaje = l.get_data('V(1)')\n",
        "corriente = l.get_data('I(V1)')\n",
        "\n",
        "# Podemos pintar la corrente en función del tiempo\n",
        "# plt.plot(tiempo, corriente)\n",
        "# O el voltaje\n",
        "\n",
        "plt.plot(tiempo, voltaje);\n",
        "plt.grid(True, linestyle='--')\n",
        "plt.xlabel('Tiempo')\n",
        "plt.ylabel('Voltaje')\n",
        "\n",
        "plt.show()"
      ],
      "outputs": [
        {
          "output_type": "display_data",
          "data": {
            "text/plain": "<Figure size 432x288 with 1 Axes>",
            "image/png": "[encoded data removed]"
          },
          "metadata": {
            "needs_background": "light"
          }
        }
      ],
      "execution_count": 17,
      "metadata": {
        "collapsed": true,
        "jupyter": {
          "source_hidden": false,
          "outputs_hidden": false
        },
        "nteract": {
          "transient": {
            "deleting": false
          }
        },
        "execution": {
          "iopub.status.busy": "2021-01-04T19:50:49.667Z",
          "iopub.execute_input": "2021-01-04T19:50:49.695Z",
          "iopub.status.idle": "2021-01-04T19:50:49.738Z",
          "shell.execute_reply": "2021-01-04T19:50:46.696Z"
        }
      }
    },
    {
      "cell_type": "markdown",
      "source": [
        "En resumen: hemos usado dos compiladores Spice distintos para hacer el mismo ejercicio. De igual manera podríamos haber usado Ngspice u otro. De hecho, podíamos haber usado Ahkab en modo comando. Si tenemos correctamente instalado este framework, en princpio podemos invocarlo directamente desde línea de comandos:"
      ],
      "metadata": {
        "nteract": {
          "transient": {
            "deleting": false
          }
        }
      }
    },
    {
      "cell_type": "code",
      "source": [
        "!ahkab \"circuito_sencillo.sp\"\n"
      ],
      "outputs": [
        {
          "output_type": "stream",
          "name": "stdout",
          "text": [
            "2021-01-04 19:50:15\n",
            "ahkab v. 0.18 (c) 2006-2015 Giuseppe Venturini\n",
            "\n",
            "Operating Point (OP) analysis\n",
            "\n",
            "Netlist: circuito_sencillo.sp\n",
            "Title: * este es un circuito sencillo\n",
            "At 300.00 K\n",
            "Options:\n",
            "\tvea = 1.000000e-06\n",
            "\tver = 0.001000\n",
            "\tiea = 1.000000e-09\n",
            "\tier = 0.001000\n",
            "\tgmin = 0.000000e+00\n",
            "\n",
            "Convergence reached in 2 iterations.\n",
            "\n",
            "========\n",
            "RESULTS:\n",
            "========\n",
            "\n",
            "Variable    Units      Value        Error    %\n",
            "----------  -------  -------  -----------  ---\n",
            "V1          V           -9    9.00002e-12    0\n",
            "I(V1)       A           -0.9  0              0\n",
            "\n",
            "========================\n",
            "ELEMENTS OP INFORMATION:\n",
            "========================\n",
            "\n"
          ]
        },
        {
          "output_type": "stream",
          "name": "stderr",
          "text": [
            "Traceback (most recent call last):\n",
            "  File \"<string>\", line 1, in <module>\n",
            "ModuleNotFoundError: No module named 'matplotlib'\n",
            "W: Locale appears not set! please export LANG=\"en_US.UTF-8\" or equivalent, \n",
            "W: or ahkab's unicode support is broken.\n",
            "Traceback (most recent call last):\n",
            "  File \"c:\\users\\sosa\\scoop\\apps\\miniconda3\\current\\lib\\runpy.py\", line 193, in _run_module_as_main\n",
            "    \"__main__\", mod_spec)\n",
            "  File \"c:\\users\\sosa\\scoop\\apps\\miniconda3\\current\\lib\\runpy.py\", line 85, in _run_code\n",
            "    exec(code, run_globals)\n",
            "  File \"C:\\Users\\sosa\\scoop\\apps\\miniconda3\\current\\scripts\\ahkab.exe\\__main__.py\", line 7, in <module>\n",
            "  File \"c:\\users\\sosa\\scoop\\apps\\miniconda3\\current\\lib\\site-packages\\ahkab\\__main__.py\", line 156, in _cli\n",
            "    outfile=cli_options.outfile, verbose=verbose)\n",
            "  File \"c:\\users\\sosa\\scoop\\apps\\miniconda3\\current\\lib\\site-packages\\ahkab\\ahkab.py\", line 953, in main\n",
            "    results.update(run(circ, [an]))\n",
            "  File \"c:\\users\\sosa\\scoop\\apps\\miniconda3\\current\\lib\\site-packages\\ahkab\\ahkab.py\", line 714, in run\n",
            "    r = analysis[an_type](circ, **an_item)\n",
            "  File \"c:\\users\\sosa\\scoop\\apps\\miniconda3\\current\\lib\\site-packages\\ahkab\\dc_analysis.py\", line 685, in op_analysis\n",
            "    opsolution.write_to_file(filename='stdout')\n",
            "  File \"c:\\users\\sosa\\scoop\\apps\\miniconda3\\current\\lib\\site-packages\\ahkab\\results.py\", line 469, in write_to_file\n",
            "    fp.write(t + '\\n\\n')\n",
            "  File \"c:\\users\\sosa\\scoop\\apps\\miniconda3\\current\\lib\\encodings\\cp1252.py\", line 19, in encode\n",
            "    return codecs.charmap_encode(input,self.errors,encoding_table)[0]\n",
            "UnicodeEncodeError: 'charmap' codec can't encode character '\\u2126' in position 16: character maps to <undefined>\n"
          ]
        }
      ],
      "execution_count": 18,
      "metadata": {
        "collapsed": true,
        "jupyter": {
          "source_hidden": false,
          "outputs_hidden": false
        },
        "nteract": {
          "transient": {
            "deleting": false
          }
        },
        "execution": {
          "iopub.status.busy": "2021-01-04T19:50:49.778Z",
          "iopub.execute_input": "2021-01-04T19:50:49.803Z",
          "iopub.status.idle": "2021-01-04T19:50:49.856Z",
          "shell.execute_reply": "2021-01-04T19:50:46.719Z"
        }
      }
    },
    {
      "cell_type": "markdown",
      "source": [
        "## Análisis de circuito con resistencias en serie\n",
        "Vamos a resolver (en punto de operación) el siguiente circuito: ![imagen](E:\\Universidad\\UNIR\\ImagenesTrabajos\\ImagenCircuito2.png)\n",
        "\n",
        "Al igual que antes, grabamos el netlist en disco desde Jupyter gracias a la palabra mágica %writefile. Más info aquí.\n",
        "\n",
        "\n"
      ],
      "metadata": {
        "nteract": {
          "transient": {
            "deleting": false
          }
        }
      }
    },
    {
      "cell_type": "code",
      "source": [
        "%%writefile \"resistencias_en_serie.net\"\n",
        "* circuito con tres resistencias en serie\n",
        "v1 1 0 type=vdc vdc=9\n",
        "R1 0 2 3k\n",
        "R2 2 3 10k  \n",
        "R3 3 1 5k\n",
        "* análisis del circuito\n",
        ".op\n",
        ".end"
      ],
      "outputs": [
        {
          "output_type": "stream",
          "name": "stdout",
          "text": [
            "Overwriting resistencias_en_serie.net\n"
          ]
        }
      ],
      "execution_count": 19,
      "metadata": {
        "collapsed": true,
        "jupyter": {
          "source_hidden": false,
          "outputs_hidden": false
        },
        "nteract": {
          "transient": {
            "deleting": false
          }
        },
        "execution": {
          "iopub.status.busy": "2021-01-04T19:50:49.895Z",
          "iopub.execute_input": "2021-01-04T19:50:49.919Z",
          "iopub.status.idle": "2021-01-04T19:50:49.962Z",
          "shell.execute_reply": "2021-01-04T19:50:46.741Z"
        }
      }
    },
    {
      "cell_type": "code",
      "source": [
        "circuito_y_analisis = ahkab.netlist_parser.parse_circuit('resistencias_en_serie.net')\n",
        "circuito = circuito_y_analisis[0]       \n",
        "analisis_en_netlist = circuito_y_analisis[1]\n",
        "lista_de_analisis = ahkab.netlist_parser.parse_analysis(circuito, analisis_en_netlist)\n",
        "resultados = ahkab.run(circuito, lista_de_analisis)\n"
      ],
      "outputs": [
        {
          "output_type": "stream",
          "name": "stdout",
          "text": [
            "Starting op analysis:\n",
            "Calculating guess: skipped. (linear circuit)\n",
            "Solving...  -\b\\\b done.\n",
            "Solving...  -\b\\\b done.\n",
            "Difference check within margins.\n",
            "(Voltage: er=0.001, ea=1e-06, Current: er=0.001, ea=1e-09)\n"
          ]
        }
      ],
      "execution_count": 20,
      "metadata": {
        "collapsed": true,
        "jupyter": {
          "source_hidden": false,
          "outputs_hidden": false
        },
        "nteract": {
          "transient": {
            "deleting": false
          }
        },
        "execution": {
          "iopub.status.busy": "2021-01-04T19:50:50.002Z",
          "iopub.execute_input": "2021-01-04T19:50:50.024Z",
          "iopub.status.idle": "2021-01-04T19:50:50.184Z",
          "shell.execute_reply": "2021-01-04T19:50:46.765Z"
        }
      }
    },
    {
      "cell_type": "markdown",
      "source": [
        "Imprimos los resultados del análisis .op:\n",
        "\n"
      ],
      "metadata": {
        "nteract": {
          "transient": {
            "deleting": false
          }
        }
      }
    },
    {
      "cell_type": "code",
      "source": [
        "print(resultados['op'])\n"
      ],
      "outputs": [
        {
          "output_type": "stream",
          "name": "stdout",
          "text": [
            "OP simulation results for '* circuito con tres resistencias en serie'(netlist resistencias_en_serie.net).\n",
            "Run on 2021-01-04 19:50:15, data file None.\n",
            "Variable    Units      Value     Error    %\n",
            "----------  -------  -------  --------  ---\n",
            "V1          V         9       -9e-12      0\n",
            "V2          V         1.5     -1.5e-12    0\n",
            "V3          V         6.5     -6.5e-12    0\n",
            "I(V1)       A        -0.0005   0          0\n"
          ]
        }
      ],
      "execution_count": 21,
      "metadata": {
        "collapsed": true,
        "jupyter": {
          "source_hidden": false,
          "outputs_hidden": false
        },
        "nteract": {
          "transient": {
            "deleting": false
          }
        },
        "execution": {
          "iopub.status.busy": "2021-01-04T19:50:50.220Z",
          "iopub.execute_input": "2021-01-04T19:50:50.245Z",
          "iopub.status.idle": "2021-01-04T19:50:50.284Z",
          "shell.execute_reply": "2021-01-04T19:50:46.791Z"
        }
      }
    },
    {
      "cell_type": "markdown",
      "source": [
        "Las cantidades V1, V2 y V3 hacen referencia a los distintos valores del potencial que se ha perdido en cada uno de los bornes que has elegido para describir el netlist (1, 2, etc.). Por ejemplo, podemos calcular el potencial consumido por la resistencia R1 y verás que coincide con el del punto V2 devuelto por Ahkab. **Ejercicio: compruébalo tú mismo y refléjalo por escrito.\n",
        "\n",
        "Cargamos primero todo lo relacionado con Sympy:"
      ],
      "metadata": {
        "nteract": {
          "transient": {
            "deleting": false
          }
        }
      }
    },
    {
      "cell_type": "code",
      "source": [
        "from sympy.physics.units import ohms, amperes, volts\n",
        "from sympy.physics.units import convert_to"
      ],
      "outputs": [],
      "execution_count": 22,
      "metadata": {
        "collapsed": true,
        "jupyter": {
          "source_hidden": false,
          "outputs_hidden": false
        },
        "nteract": {
          "transient": {
            "deleting": false
          }
        },
        "execution": {
          "iopub.status.busy": "2021-01-04T19:50:50.323Z",
          "iopub.execute_input": "2021-01-04T19:50:50.347Z",
          "shell.execute_reply": "2021-01-04T19:50:46.812Z",
          "iopub.status.idle": "2021-01-04T19:50:50.377Z"
        }
      }
    },
    {
      "cell_type": "code",
      "source": [
        "r1 = 3E3*ohms\n",
        "rtotal = 3E3*ohms + 10E3*ohms + 5E3*ohms\n",
        "voltage = 9*volts\n",
        "intensidad_ahkab = resultados['op']['I(V1)'][0][0]*amperes\n",
        "v2 = convert_to(intensidad_ahkab*r1, [volts])\n",
        "print(\"Resistencia total: \", rtotal)\n",
        "print(\"Voltaje: \", voltage)\n",
        "print(\"Intensidad: \", convert_to(voltage/rtotal,amperes))"
      ],
      "outputs": [
        {
          "output_type": "stream",
          "name": "stdout",
          "text": [
            "Resistencia total:  18000.0*ohm\n",
            "Voltaje:  9*volt\n",
            "Intensidad:  0.0005*ampere\n"
          ]
        }
      ],
      "execution_count": 23,
      "metadata": {
        "collapsed": true,
        "jupyter": {
          "source_hidden": false,
          "outputs_hidden": false
        },
        "nteract": {
          "transient": {
            "deleting": false
          }
        },
        "execution": {
          "iopub.status.busy": "2021-01-04T19:50:50.414Z",
          "iopub.execute_input": "2021-01-04T19:50:50.439Z",
          "shell.execute_reply": "2021-01-04T19:50:46.834Z",
          "iopub.status.idle": "2021-01-04T19:50:50.481Z"
        }
      }
    },
    {
      "cell_type": "code",
      "source": [
        "from sympy.physics.units import kilo\n",
        "from sympy import solve, symbols, Eq\n",
        "v1 = 9*volts\n",
        "r1 = 3*kilo*ohms\n",
        "r2 = 10*kilo*ohms\n",
        "r3 = 5*kilo*ohms\n",
        "r_total = r1 + r2 + r3\n",
        "intensidad = symbols('i')\n",
        "ley_ohm = Eq(v1, intensidad*r_total)\n",
        "solucion_para_intensidad = solve(ley_ohm, intensidad)\n",
        "sol_inten = convert_to(solucion_para_intensidad[0], [amperes]).n(2)"
      ],
      "outputs": [],
      "execution_count": 24,
      "metadata": {
        "collapsed": true,
        "jupyter": {
          "source_hidden": false,
          "outputs_hidden": false
        },
        "nteract": {
          "transient": {
            "deleting": false
          }
        },
        "execution": {
          "shell.execute_reply": "2021-01-04T19:50:46.856Z",
          "iopub.status.busy": "2021-01-04T19:50:50.516Z",
          "iopub.execute_input": "2021-01-04T19:50:50.540Z",
          "iopub.status.idle": "2021-01-04T19:50:50.567Z"
        }
      }
    },
    {
      "cell_type": "markdown",
      "source": [
        "Al tratar con un circuito en serie, la corriente que circula y pasa por toda las cargas es la misma. Así mismo, la suma de las tensiones en cada resistencia es la tensión de la fuente. Lo podemos demostrar de la siguiente manera para este circuito:"
      ],
      "metadata": {
        "nteract": {
          "transient": {
            "deleting": false
          }
        }
      }
    },
    {
      "cell_type": "code",
      "source": [
        "# Pasamos las resistencias de kiloOhmios a Ohmios y lo multiplicamos por la intensidad\n",
        "res1 = (r1*1000)*sol_inten\n",
        "res2 = (r2*1000)*sol_inten\n",
        "res3 = (r3*1000)*sol_inten\n",
        "\n",
        "# Sumamos los valores\n",
        "sumatorio = res1 + res2 + res3\n",
        "print(sumatorio)"
      ],
      "outputs": [
        {
          "output_type": "stream",
          "name": "stdout",
          "text": [
            "9.0*ampere*ohm*Prefix(kilo, k, 3, 10)\n"
          ]
        }
      ],
      "execution_count": 25,
      "metadata": {
        "collapsed": true,
        "jupyter": {
          "source_hidden": false,
          "outputs_hidden": false
        },
        "nteract": {
          "transient": {
            "deleting": false
          }
        },
        "execution": {
          "iopub.status.busy": "2021-01-04T19:50:50.602Z",
          "iopub.execute_input": "2021-01-04T19:50:50.629Z",
          "iopub.status.idle": "2021-01-04T19:50:50.672Z",
          "shell.execute_reply": "2021-01-04T19:50:46.879Z"
        }
      }
    },
    {
      "cell_type": "markdown",
      "source": [
        "## Análisis .op de circuitos con resistencias en paralelo\n",
        "Vamos a complicar un poco el trabajo añadiendo elementos en paralelo.\n",
        "\n",
        "![imagen](E:\\Universidad\\UNIR\\ImagenesTrabajos\\ImagenCircuito3.png)\n",
        "\n",
        "## Primer circuito:\n",
        "\n"
      ],
      "metadata": {
        "nteract": {
          "transient": {
            "deleting": false
          }
        }
      }
    },
    {
      "cell_type": "code",
      "source": [
        "%%writefile \"resistencias_en_paralelo_1.cir\"\n",
        "* resistencias en paralelo\n",
        "vdd 0 1 vdc=12 type=vdc\n",
        "r1 1 2 1k\n",
        "r2 2 0 470\n",
        "r3 2 3 220\n",
        "r4 3 0 1.5k\n",
        ".op\n",
        ".end"
      ],
      "outputs": [
        {
          "output_type": "stream",
          "name": "stdout",
          "text": [
            "Overwriting resistencias_en_paralelo_1.cir\n"
          ]
        }
      ],
      "execution_count": 26,
      "metadata": {
        "collapsed": true,
        "jupyter": {
          "source_hidden": false,
          "outputs_hidden": false
        },
        "nteract": {
          "transient": {
            "deleting": false
          }
        },
        "execution": {
          "iopub.status.busy": "2021-01-04T19:50:50.710Z",
          "iopub.execute_input": "2021-01-04T19:50:50.740Z",
          "iopub.status.idle": "2021-01-04T19:50:50.784Z",
          "shell.execute_reply": "2021-01-04T19:50:46.903Z"
        }
      }
    },
    {
      "cell_type": "code",
      "source": [
        "circuito_y_analisis = ahkab.netlist_parser.parse_circuit('resistencias_en_paralelo_1.cir')\n",
        "circuito = circuito_y_analisis[0]       \n",
        "analisis_en_netlist = circuito_y_analisis[1]\n",
        "lista_de_analisis = ahkab.netlist_parser.parse_analysis(circuito, analisis_en_netlist)\n",
        "resultados = ahkab.run(circuito, lista_de_analisis)"
      ],
      "outputs": [
        {
          "output_type": "stream",
          "name": "stdout",
          "text": [
            "Starting op analysis:\n",
            "Calculating guess: skipped. (linear circuit)\n",
            "Solving...  -\b\\\b done.\n",
            "Solving...  -\b\\\b done.\n",
            "Difference check within margins.\n",
            "(Voltage: er=0.001, ea=1e-06, Current: er=0.001, ea=1e-09)\n"
          ]
        }
      ],
      "execution_count": 27,
      "metadata": {
        "collapsed": true,
        "jupyter": {
          "source_hidden": false,
          "outputs_hidden": false
        },
        "nteract": {
          "transient": {
            "deleting": false
          }
        },
        "execution": {
          "iopub.status.busy": "2021-01-04T19:50:50.831Z",
          "iopub.execute_input": "2021-01-04T19:50:50.862Z",
          "iopub.status.idle": "2021-01-04T19:50:51.042Z",
          "shell.execute_reply": "2021-01-04T19:50:46.931Z"
        }
      }
    },
    {
      "cell_type": "markdown",
      "source": [
        "Imprimimos los resultados del análisis .op. Como puedes comprobar, Ahkab sólo reporta la intensidad de corriente en las ramas en las que hay una pila (en este caso, la rama donde está la pila VDD)."
      ],
      "metadata": {
        "nteract": {
          "transient": {
            "deleting": false
          }
        }
      }
    },
    {
      "cell_type": "code",
      "source": [
        "print(resultados['op'])\n"
      ],
      "outputs": [
        {
          "output_type": "stream",
          "name": "stdout",
          "text": [
            "OP simulation results for '* resistencias en paralelo'(netlist resistencias_en_paralelo_1.cir).\n",
            "Run on 2021-01-04 19:50:15, data file None.\n",
            "Variable    Units           Value        Error    %\n",
            "----------  -------  ------------  -----------  ---\n",
            "V1          V        -12           1.2e-11        0\n",
            "V2          V         -3.23533     3.23532e-12    0\n",
            "V3          V         -2.8215      2.82151e-12    0\n",
            "I(VDD)      A         -0.00876467  0              0\n"
          ]
        }
      ],
      "execution_count": 28,
      "metadata": {
        "collapsed": true,
        "jupyter": {
          "source_hidden": false,
          "outputs_hidden": false
        },
        "nteract": {
          "transient": {
            "deleting": false
          }
        },
        "execution": {
          "iopub.status.busy": "2021-01-04T19:50:51.090Z",
          "iopub.execute_input": "2021-01-04T19:50:51.122Z",
          "iopub.status.idle": "2021-01-04T19:50:51.170Z",
          "shell.execute_reply": "2021-01-04T19:50:46.956Z"
        }
      }
    },
    {
      "cell_type": "markdown",
      "source": [
        "## Segundo circuito:"
      ],
      "metadata": {
        "nteract": {
          "transient": {
            "deleting": false
          }
        }
      }
    },
    {
      "cell_type": "code",
      "source": [
        "%%writefile \"resistencias_en_paralelo_2.cir\"\n",
        "* resistencias en paralelo ejercicio 2\n",
        "v1 0 1 type=vdc vdc=9\n",
        "r1 1 2 47\n",
        "r2 2 3 220\n",
        "r4 3 4 1k\n",
        "r5 4 0 560\n",
        "v2 0 5 type=vdc vdc=1.5\n",
        "r3 5 2 180\n",
        ".op\n",
        ".end\n"
      ],
      "outputs": [
        {
          "output_type": "stream",
          "name": "stdout",
          "text": [
            "Overwriting resistencias_en_paralelo_2.cir\n"
          ]
        }
      ],
      "execution_count": 29,
      "metadata": {
        "collapsed": true,
        "jupyter": {
          "source_hidden": false,
          "outputs_hidden": false
        },
        "nteract": {
          "transient": {
            "deleting": false
          }
        },
        "execution": {
          "iopub.status.busy": "2021-01-04T19:50:51.210Z",
          "iopub.execute_input": "2021-01-04T19:50:51.239Z",
          "iopub.status.idle": "2021-01-04T19:50:51.287Z",
          "shell.execute_reply": "2021-01-04T19:50:46.982Z"
        }
      }
    },
    {
      "cell_type": "code",
      "source": [
        "circuito_y_analisis_2 = ahkab.netlist_parser.parse_circuit('resistencias_en_paralelo_2.cir')\n",
        "circuito_2 = circuito_y_analisis_2[0]       \n",
        "analisis_en_netlist_2 = circuito_y_analisis_2[1]\n",
        "lista_de_analisis_2 = ahkab.netlist_parser.parse_analysis(circuito_2, analisis_en_netlist_2)\n",
        "resultados_2 = ahkab.run(circuito_2, lista_de_analisis_2)\n",
        "print(resultados_2['op'])\n"
      ],
      "outputs": [
        {
          "output_type": "stream",
          "name": "stdout",
          "text": [
            "Starting op analysis:\n",
            "Calculating guess: skipped. (linear circuit)\n",
            "Solving...  -\b\\\b done.\n",
            "Solving...  -\b\\\b done.\n",
            "Difference check within margins.\n",
            "(Voltage: er=0.001, ea=1e-06, Current: er=0.001, ea=1e-09)\n",
            "OP simulation results for '* resistencias en paralelo ejercicio 2'(netlist resistencias_en_paralelo_2.cir).\n",
            "Run on 2021-01-04 19:50:15, data file None.\n",
            "Variable    Units         Value        Error    %\n",
            "----------  -------  ----------  -----------  ---\n",
            "V1          V        -9          8.99997e-12    0\n",
            "V2          V        -7.29441    7.29442e-12    0\n",
            "V3          V        -6.39285    6.39285e-12    0\n",
            "V4          V        -2.29487    2.29487e-12    0\n",
            "V5          V        -1.5        1.5e-12        0\n",
            "I(V1)       A        -0.0362891  0              0\n",
            "I(V2)       A         0.0321912  0              0\n"
          ]
        }
      ],
      "execution_count": 30,
      "metadata": {
        "collapsed": true,
        "jupyter": {
          "source_hidden": false,
          "outputs_hidden": false
        },
        "nteract": {
          "transient": {
            "deleting": false
          }
        },
        "execution": {
          "iopub.status.busy": "2021-01-04T19:50:51.331Z",
          "iopub.execute_input": "2021-01-04T19:50:51.357Z",
          "iopub.status.idle": "2021-01-04T19:50:51.522Z",
          "shell.execute_reply": "2021-01-04T19:50:47.007Z"
        }
      }
    },
    {
      "cell_type": "markdown",
      "source": [
        "## Ejercicio 3"
      ],
      "metadata": {
        "nteract": {
          "transient": {
            "deleting": false
          }
        }
      }
    },
    {
      "cell_type": "code",
      "source": [
        "%%writefile \"resistencias_en_paralelo_3.cir\"\n",
        "* resistencias en paralelo ejercicio 3\n",
        "v 0 1 type=vdc vdc=9\n",
        "v1 1 2 type=vdc vdc=0\n",
        "v2 1 3 type=vdc vdc=0\n",
        "v3 1 4 type=vdc vdc=0\n",
        "r1 2 0 10k\n",
        "r2 3 0 2k\n",
        "r3 4 0 1k\n",
        ".op\n",
        ".end"
      ],
      "outputs": [
        {
          "output_type": "stream",
          "name": "stdout",
          "text": [
            "Overwriting resistencias_en_paralelo_3.cir\n"
          ]
        }
      ],
      "execution_count": 31,
      "metadata": {
        "collapsed": true,
        "jupyter": {
          "source_hidden": false,
          "outputs_hidden": false
        },
        "nteract": {
          "transient": {
            "deleting": false
          }
        },
        "execution": {
          "iopub.status.busy": "2021-01-04T19:50:51.562Z",
          "iopub.execute_input": "2021-01-04T19:50:51.589Z",
          "iopub.status.idle": "2021-01-04T19:50:51.631Z",
          "shell.execute_reply": "2021-01-04T19:50:47.032Z"
        }
      }
    },
    {
      "cell_type": "code",
      "source": [
        "circuito_y_analisis_3 = ahkab.netlist_parser.parse_circuit('resistencias_en_paralelo_3.cir')\n",
        "circuito_3 = circuito_y_analisis_3[0]       \n",
        "analisis_en_netlist_3 = circuito_y_analisis_3[1]\n",
        "lista_de_analisis_3 = ahkab.netlist_parser.parse_analysis(circuito_3, analisis_en_netlist_3)\n",
        "resultados_3 = ahkab.run(circuito_3, lista_de_analisis_3)\n",
        "print(resultados_3['op'])"
      ],
      "outputs": [
        {
          "output_type": "stream",
          "name": "stdout",
          "text": [
            "Starting op analysis:\n",
            "Calculating guess: skipped. (linear circuit)\n",
            "Solving...  -\b\\\b done.\n",
            "Solving...  -\b\\\b done.\n",
            "Difference check within margins.\n",
            "(Voltage: er=0.001, ea=1e-06, Current: er=0.001, ea=1e-09)\n",
            "OP simulation results for '* resistencias en paralelo ejercicio 3'(netlist resistencias_en_paralelo_3.cir).\n",
            "Run on 2021-01-04 19:50:15, data file None.\n",
            "Variable    Units      Value    Error    %\n",
            "----------  -------  -------  -------  ---\n",
            "V1          V        -9         9e-12    0\n",
            "V2          V        -9         9e-12    0\n",
            "V3          V        -9         9e-12    0\n",
            "V4          V        -9         9e-12    0\n",
            "I(V)        A        -0.0144    0        0\n",
            "I(V1)       A        -0.0009    0        0\n",
            "I(V2)       A        -0.0045    0        0\n",
            "I(V3)       A        -0.009     0        0\n"
          ]
        }
      ],
      "execution_count": 32,
      "metadata": {
        "collapsed": true,
        "jupyter": {
          "source_hidden": false,
          "outputs_hidden": false
        },
        "nteract": {
          "transient": {
            "deleting": false
          }
        },
        "execution": {
          "iopub.status.busy": "2021-01-04T19:50:51.665Z",
          "iopub.execute_input": "2021-01-04T19:50:51.687Z",
          "iopub.status.idle": "2021-01-04T19:50:51.827Z",
          "shell.execute_reply": "2021-01-04T19:50:47.056Z"
        }
      }
    },
    {
      "cell_type": "markdown",
      "source": [
        "Si nos fijamos, no se muestran las intensidades de algunas ramas de estos circuitos, para ello añadimos algunas fuentes de alimentación de 0V para que se muestren:\n",
        "\n",
        "## Caso 1 | Ejercicio 1\n"
      ],
      "metadata": {
        "nteract": {
          "transient": {
            "deleting": false
          }
        }
      }
    },
    {
      "cell_type": "code",
      "source": [
        "%%writefile \"resistencias_en_paralelo_1_extraps.cir\"\n",
        "* resistencias en paralelo\n",
        "vdd 0 1 vdc=12 type=vdc\n",
        "r1 1 2 1k\n",
        "r2 2 3 470\n",
        "v1 3 0 type=vdc vdc=0\n",
        "r3 2 4 220\n",
        "r4 4 5 1.5k\n",
        "v2 5 0 type=vdc vdc=0\n",
        ".op\n",
        ".end"
      ],
      "outputs": [
        {
          "output_type": "stream",
          "name": "stdout",
          "text": [
            "Overwriting resistencias_en_paralelo_1_extraps.cir\n"
          ]
        }
      ],
      "execution_count": 57,
      "metadata": {
        "collapsed": true,
        "jupyter": {
          "source_hidden": false,
          "outputs_hidden": false
        },
        "nteract": {
          "transient": {
            "deleting": false
          }
        },
        "execution": {
          "iopub.status.busy": "2021-01-04T19:55:41.936Z",
          "iopub.execute_input": "2021-01-04T19:55:41.957Z",
          "iopub.status.idle": "2021-01-04T19:55:42.002Z",
          "shell.execute_reply": "2021-01-04T19:55:42.023Z"
        }
      }
    },
    {
      "cell_type": "code",
      "source": [
        "circuito_y_analisis_1_extraps = ahkab.netlist_parser.parse_circuit('resistencias_en_paralelo_1_extraps.cir')\n",
        "circuito_1_extraps = circuito_y_analisis_1_extraps[0]       \n",
        "analisis_en_netlist_1_extraps = circuito_y_analisis_1_extraps[1]\n",
        "lista_de_analisis_1_extraps = ahkab.netlist_parser.parse_analysis(circuito_1_extraps, analisis_en_netlist_1_extraps)\n",
        "resultados_1_extraps = ahkab.run(circuito_1_extraps, lista_de_analisis_1_extraps)\n",
        "print(resultados_1_extraps['op'])"
      ],
      "outputs": [
        {
          "output_type": "stream",
          "name": "stdout",
          "text": [
            "Starting op analysis:\n",
            "Calculating guess: skipped. (linear circuit)\n",
            "Solving...  -\b\\\b done.\n",
            "Solving...  -\b\\\b done.\n",
            "Difference check within margins.\n",
            "(Voltage: er=0.001, ea=1e-06, Current: er=0.001, ea=1e-09)\n",
            "OP simulation results for '* resistencias en paralelo'(netlist resistencias_en_paralelo_1_extraps.cir).\n",
            "Run on 2021-01-04 19:55:45, data file None.\n",
            "Variable    Units           Value         Error    %\n",
            "----------  -------  ------------  ------------  ---\n",
            "V1          V        -12            1.2e-11        0\n",
            "V2          V         -3.23533      3.23532e-12    0\n",
            "V3          V          0            8.67362e-19    0\n",
            "V4          V         -2.8215       2.82151e-12    0\n",
            "V5          V          0           -5.99219e-20    0\n",
            "I(VDD)      A         -0.00876467   0              0\n",
            "I(V1)       A         -0.00688367   0              0\n",
            "I(V2)       A         -0.001881     0              0\n"
          ]
        }
      ],
      "execution_count": 58,
      "metadata": {
        "collapsed": true,
        "jupyter": {
          "source_hidden": false,
          "outputs_hidden": false
        },
        "nteract": {
          "transient": {
            "deleting": false
          }
        },
        "execution": {
          "iopub.status.busy": "2021-01-04T19:55:45.435Z",
          "iopub.execute_input": "2021-01-04T19:55:45.455Z",
          "iopub.status.idle": "2021-01-04T19:55:45.592Z",
          "shell.execute_reply": "2021-01-04T19:55:45.613Z"
        }
      }
    },
    {
      "cell_type": "markdown",
      "source": [
        "Para verificar la Ley de Kirchoff determinamos los sentidos de las intensidades: \n",
        "![imagen](E:\\Universidad\\UNIR\\ImagenesTrabajos\\circuito1mallas.png)\n",
        "\n",
        "La fórmula resultante será I1 + I2 + I3 = 0"
      ],
      "metadata": {
        "nteract": {
          "transient": {
            "deleting": false
          }
        }
      }
    },
    {
      "cell_type": "code",
      "source": [
        "from sympy.physics.units import amperes\n",
        "\n",
        "\n",
        "i1 = 0.00876467*amperes\n",
        "i2 = 0.00688367*amperes\n",
        "i3 = 0.001881*amperes\n",
        "\n",
        "\n",
        "print(i1+i2+i3)"
      ],
      "outputs": [
        {
          "output_type": "stream",
          "name": "stdout",
          "text": [
            "0.01752934*ampere\n"
          ]
        }
      ],
      "execution_count": 60,
      "metadata": {
        "collapsed": true,
        "jupyter": {
          "source_hidden": false,
          "outputs_hidden": false
        },
        "nteract": {
          "transient": {
            "deleting": false
          }
        },
        "execution": {
          "shell.execute_reply": "2021-01-04T19:56:11.211Z",
          "iopub.status.busy": "2021-01-04T19:56:11.127Z",
          "iopub.execute_input": "2021-01-04T19:56:11.151Z",
          "iopub.status.idle": "2021-01-04T19:56:11.192Z"
        }
      }
    },
    {
      "cell_type": "markdown",
      "source": [
        "## Caso 2 | Ejercicio 2"
      ],
      "metadata": {
        "nteract": {
          "transient": {
            "deleting": false
          }
        }
      }
    },
    {
      "cell_type": "code",
      "source": [
        "%%writefile \"resistencias_en_paralelo_2_extraps.cir\"\n",
        "* resistencias en paralelo ejercicio 2\n",
        "v1 0 1 type=vdc vdc=9\n",
        "r1 1 2 47\n",
        "r2 2 3 220\n",
        "r4 3 4 1k\n",
        "v3 4 5 type=vdc vdc=0\n",
        "r5 5 0 560\n",
        "v2 0 6 type=vdc vdc=1.5\n",
        "r3 6 2 180\n",
        ".op\n",
        ".end"
      ],
      "outputs": [
        {
          "output_type": "stream",
          "name": "stdout",
          "text": [
            "Overwriting resistencias_en_paralelo_2_extraps.cir\n"
          ]
        }
      ],
      "execution_count": 36,
      "metadata": {
        "collapsed": true,
        "jupyter": {
          "source_hidden": false,
          "outputs_hidden": false
        },
        "nteract": {
          "transient": {
            "deleting": false
          }
        },
        "execution": {
          "iopub.status.busy": "2021-01-04T19:50:52.246Z",
          "iopub.execute_input": "2021-01-04T19:50:52.268Z",
          "iopub.status.idle": "2021-01-04T19:50:52.303Z",
          "shell.execute_reply": "2021-01-04T19:50:47.211Z"
        }
      }
    },
    {
      "cell_type": "code",
      "source": [
        "circuito_y_analisis_2_extraps = ahkab.netlist_parser.parse_circuit('resistencias_en_paralelo_2_extraps.cir')\n",
        "circuito_2_extraps = circuito_y_analisis_2_extraps[0]       \n",
        "analisis_en_netlist_2_extraps = circuito_y_analisis_2_extraps[1]\n",
        "lista_de_analisis_2_extraps = ahkab.netlist_parser.parse_analysis(circuito_2_extraps, analisis_en_netlist_2_extraps)\n",
        "resultados_2_extraps = ahkab.run(circuito_2_extraps, lista_de_analisis_2_extraps)\n",
        "print(resultados_2_extraps['op'])"
      ],
      "outputs": [
        {
          "output_type": "stream",
          "name": "stdout",
          "text": [
            "Starting op analysis:\n",
            "Calculating guess: skipped. (linear circuit)\n",
            "Solving...  -\b\\\b done.\n",
            "Solving...  -\b\\\b done.\n",
            "Difference check within margins.\n",
            "(Voltage: er=0.001, ea=1e-06, Current: er=0.001, ea=1e-09)\n",
            "OP simulation results for '* resistencias en paralelo ejercicio 2'(netlist resistencias_en_paralelo_2_extraps.cir).\n",
            "Run on 2021-01-04 19:50:15, data file None.\n",
            "Variable    Units          Value        Error    %\n",
            "----------  -------  -----------  -----------  ---\n",
            "V1          V        -9           9e-12          0\n",
            "V2          V        -7.29441     7.29443e-12    0\n",
            "V3          V        -6.39285     6.39286e-12    0\n",
            "V4          V        -2.29487     2.29487e-12    0\n",
            "V5          V        -2.29487     2.29487e-12    0\n",
            "V6          V        -1.5         1.5e-12        0\n",
            "I(V1)       A        -0.0362891   0              0\n",
            "I(V3)       A        -0.00409798  0              0\n",
            "I(V2)       A         0.0321912   0              0\n"
          ]
        }
      ],
      "execution_count": 37,
      "metadata": {
        "collapsed": true,
        "jupyter": {
          "source_hidden": false,
          "outputs_hidden": false
        },
        "nteract": {
          "transient": {
            "deleting": false
          }
        },
        "execution": {
          "iopub.status.busy": "2021-01-04T19:50:52.337Z",
          "iopub.execute_input": "2021-01-04T19:50:52.358Z",
          "iopub.status.idle": "2021-01-04T19:50:52.490Z",
          "shell.execute_reply": "2021-01-04T19:50:47.236Z"
        }
      }
    },
    {
      "cell_type": "markdown",
      "source": [
        "Para verificar la Ley de Kirchoff determinamos los sentidos de las intensidades: \n",
        "![imagen](E:\\Universidad\\UNIR\\ImagenesTrabajos\\circuito2mallas.png)\n",
        "\n",
        "La fórmula resultante será I1 + I2 - I3 = 0"
      ],
      "metadata": {
        "nteract": {
          "transient": {
            "deleting": false
          }
        }
      }
    },
    {
      "cell_type": "code",
      "source": [
        "from sympy.physics.units import amperes\n",
        "\n",
        "\n",
        "i1 = -0.0362891*amperes\n",
        "i2 = 0.0321912*amperes\n",
        "i3 = -0.00409798*amperes\n",
        "\n",
        "\n",
        "print(i1+i2-i3)"
      ],
      "outputs": [
        {
          "output_type": "stream",
          "name": "stdout",
          "text": [
            "8.00000000055964e-8*ampere\n"
          ]
        }
      ],
      "execution_count": 38,
      "metadata": {
        "collapsed": true,
        "jupyter": {
          "source_hidden": false,
          "outputs_hidden": false
        },
        "nteract": {
          "transient": {
            "deleting": false
          }
        },
        "execution": {
          "iopub.status.busy": "2021-01-04T19:50:52.524Z",
          "iopub.execute_input": "2021-01-04T19:50:52.544Z",
          "iopub.status.idle": "2021-01-04T19:50:52.580Z",
          "shell.execute_reply": "2021-01-04T19:50:47.259Z"
        }
      }
    },
    {
      "cell_type": "markdown",
      "source": [
        "# Circuitos en DC que evolucionan con el tiempo\n",
        "## Carga de un condensador\n",
        "Vamos a ver qué le pasa a un circuito de corriente continua cuando tiene un condensador en serie.\n",
        "\n",
        "![imagen](E:\\Universidad\\UNIR\\ImagenesTrabajos\\ImagenCircuito4.png)\n",
        "\n",
        "Al igual que antes, primero guardamos el circuito en un netlist externo:\n",
        "\n"
      ],
      "metadata": {
        "nteract": {
          "transient": {
            "deleting": false
          }
        }
      }
    },
    {
      "cell_type": "code",
      "source": [
        "%%writefile \"condensador en continua.ckt\"\n",
        "* Carga condensador\n",
        "v1 0 1 type=vdc vdc=6\n",
        "r1 1 2 1k\n",
        "c1 2 0 1m ic=0\n",
        ".op\n",
        ".tran tstep=0.1 tstop=8 uic=0\n",
        ".end"
      ],
      "outputs": [
        {
          "output_type": "stream",
          "name": "stdout",
          "text": [
            "Overwriting condensador en continua.ckt\n"
          ]
        }
      ],
      "execution_count": 39,
      "metadata": {
        "collapsed": true,
        "jupyter": {
          "source_hidden": false,
          "outputs_hidden": false
        },
        "nteract": {
          "transient": {
            "deleting": false
          }
        },
        "execution": {
          "shell.execute_reply": "2021-01-04T19:50:47.284Z",
          "iopub.status.busy": "2021-01-04T19:50:52.612Z",
          "iopub.execute_input": "2021-01-04T19:50:52.634Z",
          "iopub.status.idle": "2021-01-04T19:50:52.669Z"
        }
      }
    },
    {
      "cell_type": "markdown",
      "source": [
        "Con este circuito buscamos realizar un análisis en el tiempo de los parámetros del circuito por ello ponemos .tran, como comentamos anteriormente. Adicionalmente el parámetro *ic=0* del condensador es empleado para indicar el valor inicial del componente.\n",
        "\n",
        "Ahora bien, leamos el circuito:"
      ],
      "metadata": {
        "nteract": {
          "transient": {
            "deleting": false
          }
        }
      }
    },
    {
      "cell_type": "code",
      "source": [
        "circuito_y_analisis = ahkab.netlist_parser.parse_circuit(\"condensador_en_continua.ckt\")\n"
      ],
      "outputs": [],
      "execution_count": 40,
      "metadata": {
        "collapsed": true,
        "jupyter": {
          "source_hidden": false,
          "outputs_hidden": false
        },
        "nteract": {
          "transient": {
            "deleting": false
          }
        },
        "execution": {
          "iopub.status.busy": "2021-01-04T19:50:52.702Z",
          "iopub.execute_input": "2021-01-04T19:50:52.726Z",
          "shell.execute_reply": "2021-01-04T19:50:47.308Z",
          "iopub.status.idle": "2021-01-04T19:50:52.750Z"
        }
      }
    },
    {
      "cell_type": "markdown",
      "source": [
        "Separamos el netlist de los análisis y asignamos un fichero de almacenamiento de datos (outfile):\n",
        "\n"
      ],
      "metadata": {
        "nteract": {
          "transient": {
            "deleting": false
          }
        }
      }
    },
    {
      "cell_type": "code",
      "source": [
        "circuito = circuito_y_analisis[0]\n",
        "analisis_en_netlist = circuito_y_analisis[1]\n",
        "lista_de_analisis = ahkab.netlist_parser.parse_analysis(circuito, analisis_en_netlist)\n",
        "lista_de_analisis[1]['outfile'] = \"simulación_tran.tsv\""
      ],
      "outputs": [],
      "execution_count": 41,
      "metadata": {
        "collapsed": true,
        "jupyter": {
          "source_hidden": false,
          "outputs_hidden": false
        },
        "nteract": {
          "transient": {
            "deleting": false
          }
        },
        "execution": {
          "iopub.status.busy": "2021-01-04T19:50:52.782Z",
          "iopub.execute_input": "2021-01-04T19:50:52.802Z",
          "shell.execute_reply": "2021-01-04T19:50:47.334Z",
          "iopub.status.idle": "2021-01-04T19:50:52.825Z"
        }
      }
    },
    {
      "cell_type": "markdown",
      "source": [
        "Ejecutamos la simulación:\n",
        "\n"
      ],
      "metadata": {
        "nteract": {
          "transient": {
            "deleting": false
          }
        }
      }
    },
    {
      "cell_type": "code",
      "source": [
        "resultados = ahkab.run(circuito, lista_de_analisis)\n",
        "print(resultados['op'])\n",
        "#print(resultados['tran'].keys())"
      ],
      "outputs": [
        {
          "output_type": "stream",
          "name": "stdout",
          "text": [
            "Starting op analysis:\n",
            "Calculating guess: skipped. (linear circuit)\n",
            "Solving...  -\b\\\b done.\n",
            "Solving...  -\b\\\b done.\n",
            "Difference check within margins.\n",
            "(Voltage: er=0.001, ea=1e-06, Current: er=0.001, ea=1e-09)\n",
            "Starting transient analysis: \n",
            "Selected method: TRAP\n",
            "Solving...  -\b\\\b|\b/\b-\b\\\b|\b/\b-\b\\\b|\b/\b-\b\\\b|\b/\b-\b\\\b|\b/\b-\b\\\b|\b/\b-\b\\\b|\b/\b-\b\\\b|\b/\b-\b\\\b|\b/\b-\b\\\b|\b/\b-\b\\\b|\b/\b-\b\\\b|\b/\b-\b\\\b|\b/\b-\b\\\b|\b/\b-\b\\\b|\b/\b-\b\\\b|\b/\b-\b\\\b|\b/\b-\b\\\b|\b/\b-\b\\\b|\b/\b-\b\\\b|\b/\b-\b\\\b|\b/\b-\b\\\b|\b/\b-\b\\\b|\b/\b-\bdone.\n",
            "Average time step: 0.0869565\n",
            "OP simulation results for '* carga condensador'(netlist condensador_en_continua.ckt).\n",
            "Run on 2021-01-04 19:50:16, data file None.\n",
            "Variable    Units      Value    Error    %\n",
            "----------  -------  -------  -------  ---\n",
            "V1          V             -6    6e-12    0\n",
            "V2          V             -6    6e-12    0\n",
            "I(V1)       A              0    0        0\n"
          ]
        }
      ],
      "execution_count": 42,
      "metadata": {
        "collapsed": true,
        "jupyter": {
          "source_hidden": false,
          "outputs_hidden": false
        },
        "nteract": {
          "transient": {
            "deleting": false
          }
        },
        "execution": {
          "iopub.status.busy": "2021-01-04T19:50:52.856Z",
          "iopub.execute_input": "2021-01-04T19:50:52.878Z",
          "iopub.status.idle": "2021-01-04T19:50:54.750Z",
          "shell.execute_reply": "2021-01-04T19:50:47.362Z"
        }
      }
    },
    {
      "cell_type": "markdown",
      "source": [
        "Dibujamos la gráfica de carga del condensador con el tiempo, centrándonos en la intensidad que circula por la pila.\n",
        "\n"
      ],
      "metadata": {
        "nteract": {
          "transient": {
            "deleting": false
          }
        }
      }
    },
    {
      "cell_type": "code",
      "source": [
        "figura = plt.figure()\n",
        "plt.title(\"Carga de un condensador | Intensidad \")\n",
        "plt.grid(True, linestyle='--')\n",
        "plt.xlabel('Tiempo')\n",
        "plt.ylabel('Intensidad')\n",
        "plt.savefig(\"condensador_en_continua_intensidad\")\n",
        "plt.plot(resultados['tran']['T'], resultados['tran']['I(V1)'], label=\"Intensidad\");\n",
        "\n",
        "\n",
        "figura = plt.figure()\n",
        "plt.title(\"Carga de un condensador | Voltaje\")\n",
        "plt.grid(True, linestyle='--')\n",
        "plt.xlabel('Tiempo')\n",
        "plt.ylabel('Voltaje')\n",
        "plt.savefig(\"condensador_en_continua_voltaje\")\n",
        "plt.plot(resultados['tran']['T'], resultados['tran']['V2'], label=\"Voltaje condensador\");\n"
      ],
      "outputs": [
        {
          "output_type": "display_data",
          "data": {
            "text/plain": "<Figure size 432x288 with 1 Axes>",
            "image/png": "[encoded data removed]"
          },
          "metadata": {
            "needs_background": "light"
          }
        },
        {
          "output_type": "display_data",
          "data": {
            "text/plain": "<Figure size 432x288 with 1 Axes>",
            "image/png": "[encoded data removed]"
          },
          "metadata": {
            "needs_background": "light"
          }
        }
      ],
      "execution_count": 43,
      "metadata": {
        "collapsed": true,
        "jupyter": {
          "source_hidden": false,
          "outputs_hidden": false
        },
        "nteract": {
          "transient": {
            "deleting": false
          }
        },
        "execution": {
          "shell.execute_reply": "2021-01-04T19:50:47.391Z",
          "iopub.status.busy": "2021-01-04T19:50:54.798Z",
          "iopub.execute_input": "2021-01-04T19:50:54.836Z",
          "iopub.status.idle": "2021-01-04T19:50:54.906Z"
        }
      }
    },
    {
      "cell_type": "markdown",
      "source": [
        "En estas gráficas se ve muy bien el proceso de carga del condensador, en el cual hasta que no está completamente cargado sigue dejando pasar la corriente. Cuando está cargado el condensador los electrones no pueden pasar por las laminas que lo forman, por ello, la corriente no pasa y intensidad es 0A mientras que el voltaje se mantiene en 6V si tomamos el punto de referencia antes del condensador. En un circuito en corriente continua un condensador actua como si fuese una toma de tierra ya que los electrones van siempre en el mismo sentido y se quedán ahí \"parados\".\n",
        "\n",
        "## Carrera de condensadores\n",
        "Ahora tenemos un circuito con dos condensadores en paralelo:\n",
        "\n",
        "![imagen](E:\\Universidad\\UNIR\\ImagenesTrabajos\\ImagenCircuito5.png)\n"
      ],
      "metadata": {
        "nteract": {
          "transient": {
            "deleting": false
          }
        }
      }
    },
    {
      "cell_type": "code",
      "source": [
        "%%writefile \"carrera en condensadores.ckt\"\n",
        "* Carga condensador\n",
        "v0 0 1 type=vdc vdc=10\n",
        "r1 0 2 3k\n",
        "c1 2 3 47u ic=0\n",
        "v1dummy 3 1 type=vdc vdc=0\n",
        "c2 2 4 22u ic=0\n",
        "v2dummy 4 1 type=vdc vdc=0\n",
        ".tran tstep=0.01 tstart=6.5 tstop=7.5 uic=0\n",
        ".end"
      ],
      "outputs": [
        {
          "output_type": "stream",
          "name": "stdout",
          "text": [
            "Overwriting carrera en condensadores.ckt\n"
          ]
        }
      ],
      "execution_count": 44,
      "metadata": {
        "collapsed": true,
        "jupyter": {
          "source_hidden": false,
          "outputs_hidden": false
        },
        "nteract": {
          "transient": {
            "deleting": false
          }
        },
        "execution": {
          "iopub.status.busy": "2021-01-04T19:50:54.948Z",
          "iopub.execute_input": "2021-01-04T19:50:54.978Z",
          "iopub.status.idle": "2021-01-04T19:50:55.040Z",
          "shell.execute_reply": "2021-01-04T19:50:47.413Z"
        }
      }
    },
    {
      "cell_type": "code",
      "source": [
        "circuito_y_análisis = ahkab.netlist_parser.parse_circuit(\"carrera_en_condensadores.ckt\")\n",
        "circuito = circuito_y_análisis[0]       \n",
        "análisis_en_netlist = circuito_y_análisis[1]\n",
        "lista_de_análisis = ahkab.netlist_parser.parse_analysis(circuito, análisis_en_netlist)\n",
        "lista_de_análisis[0]['outfile'] = \"simulación tran carrera condensadores.tsv\"\n",
        "resultados = ahkab.run(circuito, lista_de_análisis)"
      ],
      "outputs": [
        {
          "output_type": "stream",
          "name": "stdout",
          "text": [
            "Starting transient analysis: \n",
            "Selected method: TRAP\n",
            "Solving...  -\b\\\b|\b/\b-\b\\\b|\b/\b-\b\\\b|\b/\b-\b\\\b|\b/\b-\b\\\b|\b/\b-\b\\\b|\b/\b-\b\\\b|\b/\b-\b\\\b|\b/\b-\b\\\b|\b/\b-\b\\\b|\b/\b-\b\\\b|\b/\b-\b\\\b|\b/\b-\b\\\b|\b/\b-\b\\\b|\b/\b-\b\\\b|\b/\b-\b\\\b|\b/\b-\b\\\b|\b/\b-\b\\\b|\b/\b-\b\\\b|\b/\b-\b\\\b|\b/\b-\b\\\b|\b/\b-\b\\\b|\b/\b-\b\\\b|\b/\b-\b\\\b|\b/\b-\b\\\b|\b/\b-\b\\\b|\b/\b-\b\\\b|\b/\b-\b\\\b|\b/\bdone.\n",
            "Average time step: 0.00900901\n"
          ]
        }
      ],
      "execution_count": 45,
      "metadata": {
        "collapsed": true,
        "jupyter": {
          "source_hidden": false,
          "outputs_hidden": false
        },
        "nteract": {
          "transient": {
            "deleting": false
          }
        },
        "execution": {
          "iopub.status.busy": "2021-01-04T19:50:55.083Z",
          "iopub.execute_input": "2021-01-04T19:50:55.109Z",
          "iopub.status.idle": "2021-01-04T19:50:57.003Z",
          "shell.execute_reply": "2021-01-04T19:50:47.434Z"
        }
      }
    },
    {
      "cell_type": "code",
      "source": [
        "%matplotlib inline \n",
        "\n",
        "figura = plt.figure()\n",
        "plt.title(\"Carrera de condensadores\")\n",
        "plt.xlim(6.65, 7.5)\n",
        "plt.ylim(0.0, 0.0005)\n",
        "\n",
        "plt.plot(resultados['tran']['T'], resultados['tran']['I(V1DUMMY)'],label=\"Intensidad en C1\");\n",
        "plt.plot(resultados['tran']['T'], resultados['tran']['I(V2DUMMY)'],label=\"Intensidad en C2\");\n",
        "\n",
        "plt.legend(loc='best')\n",
        "plt.grid(True, linestyle='--')\n",
        "plt.xlabel('Tiempo')\n",
        "plt.ylabel('Intensidad')\n",
        "\n",
        "plt.show()\n",
        "\n",
        "\n",
        "figura2 = plt.figure()\n",
        "plt.title(\"Carrera de condensadores | Voltajes\")\n",
        "\n",
        "plt.plot(resultados['tran']['T'], resultados['tran']['V1'],label=\"Voltaje 1\");\n",
        "plt.plot(resultados['tran']['T'], resultados['tran']['V2'],label=\"Voltaje 2\");\n",
        "plt.plot(resultados['tran']['T'], resultados['tran']['V3'],label=\"Voltaje 3\");\n",
        "plt.plot(resultados['tran']['T'], resultados['tran']['V4'],label=\"Voltaje 4\");\n",
        "\n",
        "plt.legend(loc='best')\n",
        "plt.grid(True, linestyle='--')\n",
        "plt.xlabel('Tiempo')\n",
        "plt.ylabel('Voltajes')\n",
        "\n",
        "plt.show()"
      ],
      "outputs": [
        {
          "output_type": "display_data",
          "data": {
            "text/plain": "<Figure size 432x288 with 1 Axes>",
            "image/png": "[encoded data removed]"
          },
          "metadata": {
            "needs_background": "light"
          }
        },
        {
          "output_type": "display_data",
          "data": {
            "text/plain": "<Figure size 432x288 with 1 Axes>",
            "image/png": "[encoded data removed]"
          },
          "metadata": {
            "needs_background": "light"
          }
        }
      ],
      "execution_count": 46,
      "metadata": {
        "collapsed": true,
        "jupyter": {
          "source_hidden": false,
          "outputs_hidden": false
        },
        "nteract": {
          "transient": {
            "deleting": false
          }
        },
        "execution": {
          "iopub.status.busy": "2021-01-04T19:50:57.048Z",
          "iopub.execute_input": "2021-01-04T19:50:57.079Z",
          "shell.execute_reply": "2021-01-04T19:50:47.456Z",
          "iopub.status.idle": "2021-01-04T19:50:57.148Z"
        }
      }
    },
    {
      "cell_type": "markdown",
      "source": [
        "## Así quedaría si hiciesemos la simulación con LTspice: "
      ],
      "metadata": {
        "nteract": {
          "transient": {
            "deleting": false
          }
        }
      }
    },
    {
      "cell_type": "code",
      "source": [
        "lts \"carrera_en_condensadores.ckt\"\n"
      ],
      "outputs": [],
      "execution_count": 47,
      "metadata": {
        "collapsed": true,
        "jupyter": {
          "source_hidden": false,
          "outputs_hidden": false
        },
        "nteract": {
          "transient": {
            "deleting": false
          }
        },
        "execution": {
          "iopub.status.busy": "2021-01-04T19:50:57.191Z",
          "iopub.execute_input": "2021-01-04T19:50:57.223Z",
          "shell.execute_reply": "2021-01-04T19:50:47.478Z",
          "iopub.status.idle": "2021-01-04T19:50:57.260Z"
        }
      }
    },
    {
      "cell_type": "code",
      "source": [
        "import ltspice\n",
        "\n",
        "l = ltspice.Ltspice(\"carrera_en_condensadores.raw\")\n",
        "l.parse()\n",
        "\n",
        "tiempo = l.get_time()\n",
        "voltaje1 = l.get_data('V(1)')\n",
        "voltaje2 = l.get_data('V(2)')\n",
        "voltaje3 = l.get_data('V(3)')\n",
        "voltaje4 = l.get_data('V(4)')\n",
        "corriente = l.get_data('I(V1)')\n",
        "\n",
        "# Podemos pintar la corrente en función del tiempo\n",
        "# plt.plot(tiempo, corriente)\n",
        "# O el voltaje\n",
        "\n",
        "plt.plot(tiempo, voltaje1);\n",
        "plt.plot(tiempo, voltaje2);\n",
        "plt.plot(tiempo, voltaje3);\n",
        "plt.plot(tiempo, voltaje4);\n",
        "plt.grid(True, linestyle='--')\n",
        "plt.xlabel('Tiempo')\n",
        "plt.ylabel('Voltaje')\n",
        "\n",
        "plt.show()"
      ],
      "outputs": [
        {
          "output_type": "error",
          "ename": "FileNotFoundError",
          "evalue": "[WinError 2] The system cannot find the file specified: 'carrera_en_condensadores.raw'",
          "traceback": [
            "\u001b[1;31m---------------------------------------------------------------------------\u001b[0m",
            "\u001b[1;31mFileNotFoundError\u001b[0m                         Traceback (most recent call last)",
            "\u001b[1;32m<ipython-input-48-18ca67cd4343>\u001b[0m in \u001b[0;36m<module>\u001b[1;34m\u001b[0m\n\u001b[0;32m      1\u001b[0m \u001b[1;32mimport\u001b[0m \u001b[0mltspice\u001b[0m\u001b[1;33m\u001b[0m\u001b[1;33m\u001b[0m\u001b[0m\n\u001b[0;32m      2\u001b[0m \u001b[1;33m\u001b[0m\u001b[0m\n\u001b[1;32m----> 3\u001b[1;33m \u001b[0ml\u001b[0m \u001b[1;33m=\u001b[0m \u001b[0mltspice\u001b[0m\u001b[1;33m.\u001b[0m\u001b[0mLtspice\u001b[0m\u001b[1;33m(\u001b[0m\u001b[1;34m\"carrera_en_condensadores.raw\"\u001b[0m\u001b[1;33m)\u001b[0m\u001b[1;33m\u001b[0m\u001b[1;33m\u001b[0m\u001b[0m\n\u001b[0m\u001b[0;32m      4\u001b[0m \u001b[0ml\u001b[0m\u001b[1;33m.\u001b[0m\u001b[0mparse\u001b[0m\u001b[1;33m(\u001b[0m\u001b[1;33m)\u001b[0m\u001b[1;33m\u001b[0m\u001b[1;33m\u001b[0m\u001b[0m\n\u001b[0;32m      5\u001b[0m \u001b[1;33m\u001b[0m\u001b[0m\n",
            "\u001b[1;32m~\\scoop\\apps\\miniconda3\\current\\lib\\site-packages\\ltspice\\ltspice.py\u001b[0m in \u001b[0;36m__init__\u001b[1;34m(self, file_path)\u001b[0m\n\u001b[0;32m     43\u001b[0m \u001b[1;33m\u001b[0m\u001b[0m\n\u001b[0;32m     44\u001b[0m         \u001b[0mself\u001b[0m\u001b[1;33m.\u001b[0m\u001b[0mheader_size\u001b[0m \u001b[1;33m=\u001b[0m \u001b[1;36m0\u001b[0m\u001b[1;33m\u001b[0m\u001b[1;33m\u001b[0m\u001b[0m\n\u001b[1;32m---> 45\u001b[1;33m         \u001b[0mself\u001b[0m\u001b[1;33m.\u001b[0m\u001b[0mread_header\u001b[0m\u001b[1;33m(\u001b[0m\u001b[1;33m)\u001b[0m\u001b[1;33m\u001b[0m\u001b[1;33m\u001b[0m\u001b[0m\n\u001b[0m\u001b[0;32m     46\u001b[0m \u001b[1;33m\u001b[0m\u001b[0m\n\u001b[0;32m     47\u001b[0m     \u001b[1;32mdef\u001b[0m \u001b[0mset_variable_dtype\u001b[0m\u001b[1;33m(\u001b[0m\u001b[0mself\u001b[0m\u001b[1;33m,\u001b[0m \u001b[0mt\u001b[0m\u001b[1;33m)\u001b[0m\u001b[1;33m:\u001b[0m\u001b[1;33m\u001b[0m\u001b[1;33m\u001b[0m\u001b[0m\n",
            "\u001b[1;32m~\\scoop\\apps\\miniconda3\\current\\lib\\site-packages\\ltspice\\ltspice.py\u001b[0m in \u001b[0;36mread_header\u001b[1;34m(self)\u001b[0m\n\u001b[0;32m     50\u001b[0m \u001b[1;33m\u001b[0m\u001b[0m\n\u001b[0;32m     51\u001b[0m     \u001b[1;32mdef\u001b[0m \u001b[0mread_header\u001b[0m\u001b[1;33m(\u001b[0m\u001b[0mself\u001b[0m\u001b[1;33m)\u001b[0m\u001b[1;33m:\u001b[0m\u001b[1;33m\u001b[0m\u001b[1;33m\u001b[0m\u001b[0m\n\u001b[1;32m---> 52\u001b[1;33m         \u001b[0mfilesize\u001b[0m \u001b[1;33m=\u001b[0m \u001b[0mos\u001b[0m\u001b[1;33m.\u001b[0m\u001b[0mstat\u001b[0m\u001b[1;33m(\u001b[0m\u001b[0mself\u001b[0m\u001b[1;33m.\u001b[0m\u001b[0mfile_path\u001b[0m\u001b[1;33m)\u001b[0m\u001b[1;33m.\u001b[0m\u001b[0mst_size\u001b[0m\u001b[1;33m\u001b[0m\u001b[1;33m\u001b[0m\u001b[0m\n\u001b[0m\u001b[0;32m     53\u001b[0m \u001b[1;33m\u001b[0m\u001b[0m\n\u001b[0;32m     54\u001b[0m         \u001b[1;32mwith\u001b[0m \u001b[0mopen\u001b[0m\u001b[1;33m(\u001b[0m\u001b[0mself\u001b[0m\u001b[1;33m.\u001b[0m\u001b[0mfile_path\u001b[0m\u001b[1;33m,\u001b[0m \u001b[1;34m'rb'\u001b[0m\u001b[1;33m)\u001b[0m \u001b[1;32mas\u001b[0m \u001b[0mf\u001b[0m\u001b[1;33m:\u001b[0m\u001b[1;33m\u001b[0m\u001b[1;33m\u001b[0m\u001b[0m\n",
            "\u001b[1;31mFileNotFoundError\u001b[0m: [WinError 2] The system cannot find the file specified: 'carrera_en_condensadores.raw'"
          ]
        }
      ],
      "execution_count": 48,
      "metadata": {
        "collapsed": true,
        "jupyter": {
          "source_hidden": false,
          "outputs_hidden": false
        },
        "nteract": {
          "transient": {
            "deleting": false
          }
        },
        "execution": {
          "iopub.status.busy": "2021-01-04T19:50:57.308Z",
          "iopub.execute_input": "2021-01-04T19:50:57.335Z",
          "shell.execute_reply": "2021-01-04T19:50:47.501Z"
        }
      }
    },
    {
      "cell_type": "markdown",
      "source": [
        "## Circuitos en corriente alterna\n"
      ],
      "metadata": {
        "nteract": {
          "transient": {
            "deleting": false
          }
        }
      }
    },
    {
      "cell_type": "code",
      "source": [
        "%%writefile \"corriente_alterna.net\"\n",
        "* Circuito en corriente alterna\n",
        "v1 1 0 sin(0 120 60 0 0)\n",
        "r1 0 1 10k\n",
        ".tran 1\n",
        ".end"
      ],
      "outputs": [],
      "execution_count": 49,
      "metadata": {
        "collapsed": true,
        "jupyter": {
          "source_hidden": false,
          "outputs_hidden": false
        },
        "nteract": {
          "transient": {
            "deleting": false
          }
        },
        "execution": {
          "iopub.status.busy": "2021-01-04T19:24:19.389Z",
          "iopub.execute_input": "2021-01-04T19:24:19.413Z",
          "iopub.status.idle": "2021-01-04T19:24:19.457Z",
          "shell.execute_reply": "2021-01-04T19:50:47.524Z"
        }
      }
    },
    {
      "cell_type": "code",
      "source": [
        "lts \"corriente_alterna.net\""
      ],
      "outputs": [],
      "execution_count": 50,
      "metadata": {
        "collapsed": true,
        "jupyter": {
          "source_hidden": false,
          "outputs_hidden": false
        },
        "nteract": {
          "transient": {
            "deleting": false
          }
        },
        "execution": {
          "iopub.status.busy": "2021-01-04T19:24:20.338Z",
          "iopub.execute_input": "2021-01-04T19:24:20.375Z",
          "iopub.status.idle": "2021-01-04T19:24:20.989Z",
          "shell.execute_reply": "2021-01-04T19:50:47.548Z"
        }
      }
    },
    {
      "cell_type": "code",
      "source": [
        "%pycat corriente_alterna.log"
      ],
      "outputs": [],
      "execution_count": 51,
      "metadata": {
        "collapsed": true,
        "jupyter": {
          "source_hidden": false,
          "outputs_hidden": false
        },
        "nteract": {
          "transient": {
            "deleting": false
          }
        },
        "execution": {
          "iopub.status.busy": "2021-01-04T19:24:21.821Z",
          "iopub.execute_input": "2021-01-04T19:24:21.843Z",
          "iopub.status.idle": "2021-01-04T19:24:21.876Z",
          "shell.execute_reply": "2021-01-04T19:50:47.581Z"
        }
      }
    },
    {
      "cell_type": "code",
      "source": [
        "import ltspice\n",
        "%matplotlib inline \n",
        "\n",
        "l = ltspice.Ltspice(\"corriente_alterna.raw\")\n",
        "l.parse()\n",
        "tiempo = l.get_time()\n",
        "voltaje = l.get_data('V(1)')\n",
        "instensidad = l.get_data('I(V1)')\n",
        "\n",
        "fig, ax1 = plt.subplots()\n",
        "color = 'tab:red'\n",
        "ax1.set_xlabel('time (s)')\n",
        "ax1.set_ylabel('Voltaje | Volts ', color=color)\n",
        "ax1.plot(tiempo, voltaje, color=color)\n",
        "ax1.tick_params(axis='y', labelcolor=color)\n",
        "\n",
        "ax2 = ax1.twinx() \n",
        "\n",
        "color = 'tab:blue'\n",
        "ax2.set_ylabel('Intensidad | Amperios ', color=color)  \n",
        "ax2.plot(tiempo, instensidad, color=color)\n",
        "ax2.tick_params(axis='y', labelcolor=color)\n",
        "\n",
        "\n",
        "fig.set_size_inches(15, 3)\n",
        "\n",
        "plt.show()\n",
        "\n"
      ],
      "outputs": [],
      "execution_count": 52,
      "metadata": {
        "collapsed": true,
        "jupyter": {
          "source_hidden": false,
          "outputs_hidden": false
        },
        "nteract": {
          "transient": {
            "deleting": false
          }
        },
        "execution": {
          "iopub.status.busy": "2021-01-04T19:36:03.148Z",
          "iopub.execute_input": "2021-01-04T19:36:03.170Z",
          "iopub.status.idle": "2021-01-04T19:36:03.410Z",
          "shell.execute_reply": "2021-01-04T19:50:47.602Z"
        }
      }
    },
    {
      "cell_type": "markdown",
      "source": [
        "Ahora con Ahkab:"
      ],
      "metadata": {
        "nteract": {
          "transient": {
            "deleting": false
          }
        }
      }
    },
    {
      "cell_type": "code",
      "source": [
        "%%writefile \"corriente_alterna2.sp\"\n",
        "* Circuito en corriente alterna\n",
        "v1 1 0 type=sin VO=0 VA=120 FREQ=60 TD=0 THETA=0\n",
        "r1 0 1 10k\n",
        ".tran tstep=0.25 tstart=0 tstop=1\n",
        ".end"
      ],
      "outputs": [],
      "execution_count": 53,
      "metadata": {
        "collapsed": true,
        "jupyter": {
          "source_hidden": false,
          "outputs_hidden": false
        },
        "nteract": {
          "transient": {
            "deleting": false
          }
        },
        "execution": {
          "iopub.status.busy": "2021-01-04T19:24:26.205Z",
          "iopub.execute_input": "2021-01-04T19:24:26.226Z",
          "iopub.status.idle": "2021-01-04T19:24:26.277Z",
          "shell.execute_reply": "2021-01-04T19:50:47.624Z"
        }
      }
    },
    {
      "cell_type": "code",
      "source": [
        "import pylab as plt\n",
        "import ahkab\n",
        "\n",
        "#Se añade para poder hacer show de las graficas.\n",
        "%matplotlib inline \n",
        "\n",
        "circuito_y_analisis = ahkab.netlist_parser.parse_circuit('corriente_alterna2.sp')\n",
        "\n",
        "circuito = circuito_y_analisis[0]\n",
        "analisis_en_netlist = circuito_y_analisis[1]\n",
        "lista_de_analisis = ahkab.netlist_parser.parse_analysis(circuito, analisis_en_netlist)\n",
        "lista_de_analisis[0]['outfile'] = \"corriente_alterna2.tsv\"\n",
        "resultados = ahkab.run(circuito, lista_de_analisis)\n",
        "#print(resultados['tran'].keys())\n",
        "\n",
        "\n",
        "fig, ax1 = plt.subplots()\n",
        "color = 'tab:red'\n",
        "ax1.set_xlabel('time (s)')\n",
        "ax1.set_ylabel('Voltaje | Volts ', color=color)\n",
        "ax1.plot(resultados['tran']['T'], resultados['tran']['V1'], color=color)\n",
        "ax1.tick_params(axis='y', labelcolor=color)\n",
        "\n",
        "ax2 = ax1.twinx() \n",
        "\n",
        "color = 'tab:blue'\n",
        "ax2.set_ylabel('Intensidad | Amperios ', color=color) \n",
        "ax2.plot(resultados['tran']['T'], resultados['tran']['I(V1)'], color=color)\n",
        "ax2.tick_params(axis='y', labelcolor=color)\n",
        "\n",
        "\n",
        "fig.set_size_inches(15, 3)\n",
        "\n",
        "plt.show()\n",
        "\n"
      ],
      "outputs": [],
      "execution_count": 54,
      "metadata": {
        "collapsed": true,
        "jupyter": {
          "source_hidden": false,
          "outputs_hidden": false
        },
        "nteract": {
          "transient": {
            "deleting": false
          }
        },
        "execution": {
          "iopub.status.busy": "2021-01-04T19:37:52.971Z",
          "iopub.execute_input": "2021-01-04T19:37:52.996Z",
          "iopub.status.idle": "2021-01-04T19:38:12.119Z",
          "shell.execute_reply": "2021-01-04T19:50:47.645Z"
        }
      }
    }
  ],
  "metadata": {
    "kernel_info": {
      "name": "python3"
    },
    "language_info": {
      "name": "python",
      "version": "3.7.4",
      "mimetype": "text/x-python",
      "codemirror_mode": {
        "name": "ipython",
        "version": 3
      },
      "pygments_lexer": "ipython3",
      "nbconvert_exporter": "python",
      "file_extension": ".py"
    },
    "kernelspec": {
      "argv": [
        "C:\\Users\\sosa\\scoop\\apps\\miniconda3\\current\\python.exe",
        "-m",
        "ipykernel_launcher",
        "-f",
        "{connection_file}"
      ],
      "display_name": "Python 3",
      "language": "python",
      "name": "python3"
    },
    "nteract": {
      "version": "0.27.0"
    }
  },
  "nbformat": 4,
  "nbformat_minor": 0
}